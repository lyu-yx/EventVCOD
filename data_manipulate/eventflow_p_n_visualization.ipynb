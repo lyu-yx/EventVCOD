{
 "cells": [
  {
   "cell_type": "code",
   "execution_count": 5,
   "metadata": {},
   "outputs": [],
   "source": [
    "import cv2\n",
    "import numpy as np\n",
    "import os\n",
    "from glob import glob\n",
    "from tqdm import tqdm\n",
    "import matplotlib.pyplot as plt"
   ]
  },
  {
   "cell_type": "code",
   "execution_count": null,
   "metadata": {},
   "outputs": [
    {
     "name": "stderr",
     "output_type": "stream",
     "text": [
      "100%|██████████| 9/9 [00:00<00:00, 4500.86it/s]\n"
     ]
    }
   ],
   "source": [
    "# directory = 'D:\\Dateset\\MoCA-Mask-Pseudo\\MoCA-Video-Train'\n",
    "directory = 'D:\\Dateset\\CAD2016'\n",
    "moca_list = os.listdir(directory)\n",
    "for curr_dir in tqdm(moca_list):\n",
    "    os.makedirs(os.path.join(directory, curr_dir, 'Eventflow'), exist_ok=True)\n",
    "    pos_directory = os.path.join(directory, curr_dir, 'positive')\n",
    "    neg_directory = os.path.join(directory, curr_dir, 'negative')\n"
   ]
  },
  {
   "cell_type": "code",
   "execution_count": null,
   "metadata": {},
   "outputs": [
    {
     "name": "stderr",
     "output_type": "stream",
     "text": [
      "  0%|          | 0/9 [00:00<?, ?it/s]\n"
     ]
    },
    {
     "ename": "IndexError",
     "evalue": "list index out of range",
     "output_type": "error",
     "traceback": [
      "\u001b[1;31m---------------------------------------------------------------------------\u001b[0m",
      "\u001b[1;31mIndexError\u001b[0m                                Traceback (most recent call last)",
      "Cell \u001b[1;32mIn[4], line 10\u001b[0m\n\u001b[0;32m      7\u001b[0m visualization_directory \u001b[38;5;241m=\u001b[39m os\u001b[38;5;241m.\u001b[39mpath\u001b[38;5;241m.\u001b[39mjoin(directory, curr_dir, \u001b[38;5;124m'\u001b[39m\u001b[38;5;124mEventflow\u001b[39m\u001b[38;5;124m'\u001b[39m, \u001b[38;5;124m'\u001b[39m\u001b[38;5;124mred_blue_visualization\u001b[39m\u001b[38;5;124m'\u001b[39m)\n\u001b[0;32m      8\u001b[0m \u001b[38;5;66;03m# save a all black image named 00000.jpg in visualization_directory, size is the same with 000001.jpg in that directory\u001b[39;00m\n\u001b[1;32m---> 10\u001b[0m img \u001b[38;5;241m=\u001b[39m cv2\u001b[38;5;241m.\u001b[39mimread(os\u001b[38;5;241m.\u001b[39mpath\u001b[38;5;241m.\u001b[39mjoin(pos_directory, \u001b[43mpos_images\u001b[49m\u001b[43m[\u001b[49m\u001b[38;5;241;43m0\u001b[39;49m\u001b[43m]\u001b[49m))\n\u001b[0;32m     11\u001b[0m img \u001b[38;5;241m=\u001b[39m np\u001b[38;5;241m.\u001b[39mzeros_like(img)\n\u001b[0;32m     12\u001b[0m cv2\u001b[38;5;241m.\u001b[39mimwrite(os\u001b[38;5;241m.\u001b[39mpath\u001b[38;5;241m.\u001b[39mjoin(visualization_directory, \u001b[38;5;124m'\u001b[39m\u001b[38;5;124m00000.jpg\u001b[39m\u001b[38;5;124m'\u001b[39m), img)\n",
      "\u001b[1;31mIndexError\u001b[0m: list index out of range"
     ]
    }
   ],
   "source": [
    "for curr_dir in tqdm(moca_list):\n",
    "    os.makedirs(os.path.join(directory, curr_dir, 'Eventflow'), exist_ok=True)\n",
    "\n",
    "    pos_directory = os.path.join(directory, curr_dir, 'Eventflow', 'positive')\n",
    "    pos_images = [f for f in os.listdir(pos_directory) if f.endswith('.png')]\n",
    "\n",
    "    visualization_directory = os.path.join(directory, curr_dir, 'Eventflow', 'red_blue_visualization')\n",
    "    # save a all black image named 00000.jpg in visualization_directory, size is the same with 000001.jpg in that directory\n",
    "    \n",
    "    img = cv2.imread(os.path.join(pos_directory, pos_images[0]))\n",
    "    img = np.zeros_like(img)\n",
    "    cv2.imwrite(os.path.join(visualization_directory, pos_images[0][:-5]+'1.png'), img)\n"
   ]
  },
  {
   "cell_type": "code",
   "execution_count": 1,
   "metadata": {},
   "outputs": [
    {
     "ename": "NameError",
     "evalue": "name 'moca_list' is not defined",
     "output_type": "error",
     "traceback": [
      "\u001b[1;31m---------------------------------------------------------------------------\u001b[0m",
      "\u001b[1;31mNameError\u001b[0m                                 Traceback (most recent call last)",
      "Cell \u001b[1;32mIn[1], line 5\u001b[0m\n\u001b[0;32m      2\u001b[0m \u001b[38;5;28;01mimport\u001b[39;00m \u001b[38;5;21;01mglob\u001b[39;00m\n\u001b[0;32m      3\u001b[0m \u001b[38;5;28;01mfrom\u001b[39;00m \u001b[38;5;21;01mtqdm\u001b[39;00m \u001b[38;5;28;01mimport\u001b[39;00m tqdm\n\u001b[1;32m----> 5\u001b[0m \u001b[38;5;28;01mfor\u001b[39;00m curr_dir \u001b[38;5;129;01min\u001b[39;00m tqdm(\u001b[43mmoca_list\u001b[49m):\n\u001b[0;32m      6\u001b[0m     \u001b[38;5;66;03m# Create the path to the files\u001b[39;00m\n\u001b[0;32m      7\u001b[0m     rm_dir \u001b[38;5;241m=\u001b[39m os\u001b[38;5;241m.\u001b[39mpath\u001b[38;5;241m.\u001b[39mjoin(directory, curr_dir, \u001b[38;5;124m'\u001b[39m\u001b[38;5;124mEventflow\u001b[39m\u001b[38;5;124m'\u001b[39m, \u001b[38;5;124m'\u001b[39m\u001b[38;5;124m*.jpg\u001b[39m\u001b[38;5;124m'\u001b[39m)\n\u001b[0;32m      8\u001b[0m     \u001b[38;5;66;03m# Get all the jpg files matching the pattern\u001b[39;00m\n",
      "\u001b[1;31mNameError\u001b[0m: name 'moca_list' is not defined"
     ]
    }
   ],
   "source": [
    "import os\n",
    "import glob\n",
    "from tqdm import tqdm\n",
    "\n",
    "for curr_dir in tqdm(moca_list):\n",
    "    # Create the path to the files\n",
    "    rm_dir = os.path.join(directory, curr_dir, 'Eventflow', '*.jpg')\n",
    "    # Get all the jpg files matching the pattern\n",
    "    jpg_files = glob.glob(rm_dir)\n",
    "    # Remove each file\n",
    "    for file in jpg_files:\n",
    "        os.remove(file)"
   ]
  },
  {
   "cell_type": "code",
   "execution_count": 2,
   "metadata": {},
   "outputs": [
    {
     "name": "stderr",
     "output_type": "stream",
     "text": [
      "100%|██████████| 71/71 [00:00<00:00, 3149.58it/s]\n"
     ]
    }
   ],
   "source": [
    "directory = 'D:\\Dateset\\MoCA-Mask-Pseudo\\MoCA-Video-Train'\n",
    "# directory = 'D:\\Dateset\\MoCA-Mask\\MoCA_Video\\TestDataset_per_sq'\n",
    "moca_list = os.listdir(directory)\n",
    "for curr_dir in tqdm(moca_list):\n",
    "    os.makedirs(os.path.join(directory, curr_dir, 'Eventflow'), exist_ok=True)\n",
    "    pos_directory = os.path.join(directory, curr_dir, 'positive_new')\n",
    "    neg_directory = os.path.join(directory, curr_dir, 'negative_new')"
   ]
  },
  {
   "cell_type": "code",
   "execution_count": 6,
   "metadata": {},
   "outputs": [
    {
     "name": "stderr",
     "output_type": "stream",
     "text": [
      "100%|██████████| 71/71 [10:00<00:00,  8.46s/it]\n"
     ]
    }
   ],
   "source": [
    "for curr_dir in tqdm(moca_list):\n",
    "    os.makedirs(os.path.join(directory, curr_dir, 'Eventflow'), exist_ok=True)\n",
    "    pos_directory = os.path.join(directory, curr_dir, 'Eventflow', 'positive_new')\n",
    "    neg_directory = os.path.join(directory, curr_dir, 'Eventflow', 'negative_new')\n",
    "    \n",
    "    pos_images = [f for f in os.listdir(pos_directory) if f.endswith('.jpg')]\n",
    "    neg_images = [f for f in os.listdir(neg_directory) if f.endswith('.jpg')]\n",
    "    \n",
    "    visualization_directory = os.path.join(directory, curr_dir, 'Eventflow', 'red_blue_visualization_new')\n",
    "    os.makedirs(visualization_directory, exist_ok=True)\n",
    "\n",
    "    for pos_image_name, neg_image_name in zip(pos_images, neg_images):\n",
    "        pos_image_path = os.path.join(pos_directory, pos_image_name)\n",
    "        neg_image_path = os.path.join(neg_directory, neg_image_name)\n",
    "        \n",
    "        # Read images\n",
    "        pos_image = cv2.imread(pos_image_path, cv2.IMREAD_GRAYSCALE)\n",
    "        neg_image = cv2.imread(neg_image_path, cv2.IMREAD_GRAYSCALE)\n",
    "        \n",
    "        # Ensure both images are of the same size\n",
    "        if pos_image.shape != neg_image.shape:\n",
    "            raise ValueError(\"The positive and negative images must be of the same size\")\n",
    "        \n",
    "        # Create an empty RGB image\n",
    "        combined_image = np.zeros((pos_image.shape[0], pos_image.shape[1], 3), dtype=np.uint8)\n",
    "        \n",
    "        # Assign the positive image to the red channel\n",
    "        combined_image[:, :, 2] = pos_image\n",
    "        \n",
    "        # Assign the negative image to the blue channel\n",
    "        combined_image[:, :, 0] = neg_image\n",
    "        \n",
    "        # Save the combined image\n",
    "        combined_image_path = os.path.join(visualization_directory, f'{pos_image_name}')\n",
    "        cv2.imwrite(combined_image_path, combined_image)"
   ]
  },
  {
   "cell_type": "code",
   "execution_count": 7,
   "metadata": {},
   "outputs": [
    {
     "name": "stderr",
     "output_type": "stream",
     "text": [
      "100%|██████████| 71/71 [00:01<00:00, 51.01it/s]\n"
     ]
    }
   ],
   "source": [
    "for curr_dir in tqdm(moca_list):\n",
    "    os.makedirs(os.path.join(directory, curr_dir, 'Eventflow'), exist_ok=True)\n",
    "\n",
    "    pos_directory = os.path.join(directory, curr_dir, 'Eventflow', 'positive_new')\n",
    "    pos_images = [f for f in os.listdir(pos_directory) if f.endswith('.jpg')]\n",
    "\n",
    "    visualization_directory = os.path.join(directory, curr_dir, 'Eventflow', 'red_blue_visualization_new')\n",
    "    # save a all black image named 00000.jpg in visualization_directory, size is the same with 000001.jpg in that directory\n",
    "    \n",
    "    img = cv2.imread(os.path.join(pos_directory, pos_images[0]))\n",
    "    img = np.zeros_like(img)\n",
    "    cv2.imwrite(os.path.join(visualization_directory, '00000.jpg'), img)\n"
   ]
  },
  {
   "cell_type": "code",
   "execution_count": 23,
   "metadata": {},
   "outputs": [
    {
     "name": "stderr",
     "output_type": "stream",
     "text": [
      "100%|██████████| 16/16 [00:00<00:00, 120.08it/s]\n"
     ]
    }
   ],
   "source": [
    "import os\n",
    "import glob\n",
    "from tqdm import tqdm\n",
    "\n",
    "for curr_dir in tqdm(moca_list):\n",
    "    # Create the path to the files\n",
    "    rm_dir = os.path.join(directory, curr_dir, 'Eventflow', '*.jpg')\n",
    "    # Get all the jpg files matching the pattern\n",
    "    jpg_files = glob.glob(rm_dir)\n",
    "    # Remove each file\n",
    "    for file in jpg_files:\n",
    "        os.remove(file)"
   ]
  },
  {
   "cell_type": "code",
   "execution_count": null,
   "metadata": {},
   "outputs": [
    {
     "name": "stderr",
     "output_type": "stream",
     "text": [
      "100%|██████████| 16/16 [00:12<00:00,  1.27it/s]\n"
     ]
    }
   ],
   "source": [
    "for curr_dir in tqdm(moca_list):\n",
    "    os.makedirs(os.path.join(directory, curr_dir, 'Eventflow'), exist_ok=True)\n",
    "    pos_directory = os.path.join(directory, curr_dir, 'Eventflow', 'positive_new')\n",
    "    neg_directory = os.path.join(directory, curr_dir, 'Eventflow', 'negative_new')\n",
    "    \n",
    "    pos_images = [f for f in os.listdir(pos_directory) if f.endswith('.jpg')]\n",
    "    neg_images = [f for f in os.listdir(neg_directory) if f.endswith('.jpg')]\n",
    "    \n",
    "    visualization_directory = os.path.join(directory, curr_dir, 'Eventflow', 'red_blue_visualization_new')\n",
    "    os.makedirs(visualization_directory, exist_ok=True)\n",
    "\n",
    "    for pos_image_name, neg_image_name in zip(pos_images, neg_images):\n",
    "        pos_image_path = os.path.join(pos_directory, pos_image_name)\n",
    "        neg_image_path = os.path.join(neg_directory, neg_image_name)\n",
    "        \n",
    "        # Read images\n",
    "        pos_image = cv2.imread(pos_image_path, cv2.IMREAD_GRAYSCALE)\n",
    "        neg_image = cv2.imread(neg_image_path, cv2.IMREAD_GRAYSCALE)\n",
    "        \n",
    "        # Ensure both images are of the same size\n",
    "        if pos_image.shape != neg_image.shape:\n",
    "            raise ValueError(\"The positive and negative images must be of the same size\")\n",
    "        \n",
    "        # Create an empty RGB image\n",
    "        combined_image = np.zeros((pos_image.shape[0], pos_image.shape[1], 3), dtype=np.uint8)\n",
    "        \n",
    "        # Assign the positive image to the red channel\n",
    "        combined_image[:, :, 2] = pos_image\n",
    "        \n",
    "        # Assign the negative image to the blue channel\n",
    "        combined_image[:, :, 0] = neg_image\n",
    "        \n",
    "        # Save the combined image\n",
    "        combined_image_path = os.path.join(visualization_directory, f'{pos_image_name}')\n",
    "        cv2.imwrite(combined_image_path, combined_image)"
   ]
  },
  {
   "cell_type": "code",
   "execution_count": 8,
   "metadata": {},
   "outputs": [
    {
     "name": "stderr",
     "output_type": "stream",
     "text": [
      "100%|██████████| 16/16 [00:00<00:00, 1680.16it/s]\n"
     ]
    }
   ],
   "source": [
    "# directory = 'D:\\Dateset\\MoCA-Mask-Pseudo\\MoCA-Video-Train'\n",
    "directory = 'D:\\Dateset\\MoCA-Mask-Pseudo\\MoCA-Video-Test'\n",
    "moca_list = os.listdir(directory)\n",
    "for curr_dir in tqdm(moca_list):\n",
    "    os.makedirs(os.path.join(directory, curr_dir, 'Eventflow'), exist_ok=True)\n",
    "    pos_directory = os.path.join(directory, curr_dir, 'positive_new')\n",
    "    neg_directory = os.path.join(directory, curr_dir, 'negative_new')\n"
   ]
  },
  {
   "cell_type": "code",
   "execution_count": 11,
   "metadata": {},
   "outputs": [
    {
     "name": "stderr",
     "output_type": "stream",
     "text": [
      "100%|██████████| 16/16 [00:00<00:00, 54.77it/s]\n"
     ]
    }
   ],
   "source": [
    "for curr_dir in tqdm(moca_list):\n",
    "    os.makedirs(os.path.join(directory, curr_dir, 'Eventflow'), exist_ok=True)\n",
    "\n",
    "    pos_directory = os.path.join(directory, curr_dir, 'Eventflow', 'positive_new')\n",
    "    pos_images = [f for f in os.listdir(pos_directory) if f.endswith('.jpg')]\n",
    "\n",
    "    visualization_directory = os.path.join(directory, curr_dir, 'Eventflow', 'red_blue_visualization_new')\n",
    "    # save a all black image named 00000.jpg in visualization_directory, size is the same with 000001.jpg in that directory\n",
    "    \n",
    "    img = cv2.imread(os.path.join(pos_directory, pos_images[0]))\n",
    "    img = np.zeros_like(img)\n",
    "    cv2.imwrite(os.path.join(visualization_directory, '00000.jpg'), img)\n"
   ]
  },
  {
   "cell_type": "code",
   "execution_count": 25,
   "metadata": {},
   "outputs": [
    {
     "name": "stderr",
     "output_type": "stream",
     "text": [
      "100%|██████████| 71/71 [00:03<00:00, 20.49it/s]\n"
     ]
    }
   ],
   "source": [
    "import os\n",
    "import glob\n",
    "from tqdm import tqdm\n",
    "\n",
    "for curr_dir in tqdm(moca_list):\n",
    "    # Create the path to the files\n",
    "    rm_dir = os.path.join(directory, curr_dir, 'Eventflow', '*.jpg')\n",
    "    # Get all the jpg files matching the pattern\n",
    "    jpg_files = glob.glob(rm_dir)\n",
    "    # Remove each file\n",
    "    for file in jpg_files:\n",
    "        os.remove(file)"
   ]
  },
  {
   "cell_type": "code",
   "execution_count": 10,
   "metadata": {},
   "outputs": [
    {
     "name": "stderr",
     "output_type": "stream",
     "text": [
      "100%|██████████| 16/16 [01:31<00:00,  5.72s/it]\n"
     ]
    }
   ],
   "source": [
    "for curr_dir in tqdm(moca_list):\n",
    "    os.makedirs(os.path.join(directory, curr_dir, 'Eventflow'), exist_ok=True)\n",
    "    pos_directory = os.path.join(directory, curr_dir, 'Eventflow', 'positive_new')\n",
    "    neg_directory = os.path.join(directory, curr_dir, 'Eventflow', 'negative_new')\n",
    "    \n",
    "    pos_images = [f for f in os.listdir(pos_directory) if f.endswith('.jpg')]\n",
    "    neg_images = [f for f in os.listdir(neg_directory) if f.endswith('.jpg')]\n",
    "    \n",
    "    visualization_directory = os.path.join(directory, curr_dir, 'Eventflow', 'red_blue_visualization_new')\n",
    "    os.makedirs(visualization_directory, exist_ok=True)\n",
    "\n",
    "    for pos_image_name, neg_image_name in zip(pos_images, neg_images):\n",
    "        pos_image_path = os.path.join(pos_directory, pos_image_name)\n",
    "        neg_image_path = os.path.join(neg_directory, neg_image_name)\n",
    "        \n",
    "        # Read images\n",
    "        pos_image = cv2.imread(pos_image_path, cv2.IMREAD_GRAYSCALE)\n",
    "        neg_image = cv2.imread(neg_image_path, cv2.IMREAD_GRAYSCALE)\n",
    "        \n",
    "        # Ensure both images are of the same size\n",
    "        if pos_image.shape != neg_image.shape:\n",
    "            raise ValueError(\"The positive and negative images must be of the same size\")\n",
    "        \n",
    "        # Create an empty RGB image\n",
    "        combined_image = np.zeros((pos_image.shape[0], pos_image.shape[1], 3), dtype=np.uint8)\n",
    "        \n",
    "        # Assign the positive image to the red channel\n",
    "        combined_image[:, :, 2] = pos_image\n",
    "        \n",
    "        # Assign the negative image to the blue channel\n",
    "        combined_image[:, :, 0] = neg_image\n",
    "        \n",
    "        # Save the combined image\n",
    "        combined_image_path = os.path.join(visualization_directory, f'{pos_image_name}')\n",
    "        cv2.imwrite(combined_image_path, combined_image)"
   ]
  },
  {
   "cell_type": "code",
   "execution_count": 15,
   "metadata": {},
   "outputs": [
    {
     "name": "stderr",
     "output_type": "stream",
     "text": [
      "100%|██████████| 71/71 [00:00<00:00, 2246.58it/s]\n"
     ]
    }
   ],
   "source": [
    "# directory = 'D:\\Dateset\\MoCA-Mask-Pseudo\\MoCA-Video-Train'\n",
    "directory = 'D:\\Dateset\\MoCA-Mask\\MoCA_Video\\TrainDataset_per_sq'\n",
    "moca_list = os.listdir(directory)\n",
    "for curr_dir in tqdm(moca_list):\n",
    "    os.makedirs(os.path.join(directory, curr_dir, 'Eventflow'), exist_ok=True)\n",
    "    pos_directory = os.path.join(directory, curr_dir, 'positive_new')\n",
    "    neg_directory = os.path.join(directory, curr_dir, 'negative_new')\n"
   ]
  },
  {
   "cell_type": "code",
   "execution_count": 17,
   "metadata": {},
   "outputs": [
    {
     "name": "stderr",
     "output_type": "stream",
     "text": [
      "100%|██████████| 71/71 [00:01<00:00, 44.75it/s]\n"
     ]
    }
   ],
   "source": [
    "for curr_dir in tqdm(moca_list):\n",
    "    os.makedirs(os.path.join(directory, curr_dir, 'Eventflow'), exist_ok=True)\n",
    "\n",
    "    pos_directory = os.path.join(directory, curr_dir, 'Eventflow', 'positive_new')\n",
    "    pos_images = [f for f in os.listdir(pos_directory) if f.endswith('.jpg')]\n",
    "\n",
    "    visualization_directory = os.path.join(directory, curr_dir, 'Eventflow', 'red_blue_visualization_new')\n",
    "    # save a all black image named 00000.jpg in visualization_directory, size is the same with 000001.jpg in that directory\n",
    "    \n",
    "    img = cv2.imread(os.path.join(pos_directory, pos_images[0]))\n",
    "    img = np.zeros_like(img)\n",
    "    cv2.imwrite(os.path.join(visualization_directory, '00000.jpg'), img)\n"
   ]
  },
  {
   "cell_type": "code",
   "execution_count": 16,
   "metadata": {},
   "outputs": [
    {
     "name": "stderr",
     "output_type": "stream",
     "text": [
      "100%|██████████| 71/71 [02:24<00:00,  2.03s/it]\n"
     ]
    }
   ],
   "source": [
    "for curr_dir in tqdm(moca_list):\n",
    "    os.makedirs(os.path.join(directory, curr_dir, 'Eventflow'), exist_ok=True)\n",
    "    pos_directory = os.path.join(directory, curr_dir, 'Eventflow', 'positive_new')\n",
    "    neg_directory = os.path.join(directory, curr_dir, 'Eventflow', 'negative_new')\n",
    "    \n",
    "    pos_images = [f for f in os.listdir(pos_directory) if f.endswith('.jpg')]\n",
    "    neg_images = [f for f in os.listdir(neg_directory) if f.endswith('.jpg')]\n",
    "    \n",
    "    visualization_directory = os.path.join(directory, curr_dir, 'Eventflow', 'red_blue_visualization_new')\n",
    "    os.makedirs(visualization_directory, exist_ok=True)\n",
    "\n",
    "    for pos_image_name, neg_image_name in zip(pos_images, neg_images):\n",
    "        pos_image_path = os.path.join(pos_directory, pos_image_name)\n",
    "        neg_image_path = os.path.join(neg_directory, neg_image_name)\n",
    "        \n",
    "        # Read images\n",
    "        pos_image = cv2.imread(pos_image_path, cv2.IMREAD_GRAYSCALE)\n",
    "        neg_image = cv2.imread(neg_image_path, cv2.IMREAD_GRAYSCALE)\n",
    "        \n",
    "        # Ensure both images are of the same size\n",
    "        if pos_image.shape != neg_image.shape:\n",
    "            raise ValueError(\"The positive and negative images must be of the same size\")\n",
    "        \n",
    "        # Create an empty RGB image\n",
    "        combined_image = np.zeros((pos_image.shape[0], pos_image.shape[1], 3), dtype=np.uint8)\n",
    "        \n",
    "        # Assign the positive image to the red channel\n",
    "        combined_image[:, :, 2] = pos_image\n",
    "        \n",
    "        # Assign the negative image to the blue channel\n",
    "        combined_image[:, :, 0] = neg_image\n",
    "        \n",
    "        # Save the combined image\n",
    "        combined_image_path = os.path.join(visualization_directory, f'{pos_image_name}')\n",
    "        cv2.imwrite(combined_image_path, combined_image)"
   ]
  },
  {
   "cell_type": "code",
   "execution_count": 26,
   "metadata": {},
   "outputs": [
    {
     "name": "stdout",
     "output_type": "stream",
     "text": [
      "Found 71 subdirectories\n"
     ]
    },
    {
     "name": "stderr",
     "output_type": "stream",
     "text": [
      "  6%|▌         | 4/71 [00:00<00:01, 36.86it/s]"
     ]
    },
    {
     "name": "stdout",
     "output_type": "stream",
     "text": [
      "Removed folder: D:\\Dateset\\MoCA-Mask\\MoCA_Video\\TrainDataset_per_sq\\crab\\Eventflow\\negative\n",
      "Removed folder: D:\\Dateset\\MoCA-Mask\\MoCA_Video\\TrainDataset_per_sq\\crab\\Eventflow\\negative_new\n",
      "Removed folder: D:\\Dateset\\MoCA-Mask\\MoCA_Video\\TrainDataset_per_sq\\crab\\Eventflow\\positive\n",
      "Removed folder: D:\\Dateset\\MoCA-Mask\\MoCA_Video\\TrainDataset_per_sq\\crab\\Eventflow\\positive_new\n",
      "Removed folder: D:\\Dateset\\MoCA-Mask\\MoCA_Video\\TrainDataset_per_sq\\crab\\Eventflow\\red_blue_visualization\n",
      "Removed folder: D:\\Dateset\\MoCA-Mask\\MoCA_Video\\TrainDataset_per_sq\\crab_1\\Eventflow\\negative\n",
      "Removed folder: D:\\Dateset\\MoCA-Mask\\MoCA_Video\\TrainDataset_per_sq\\crab_1\\Eventflow\\negative_new\n",
      "Removed folder: D:\\Dateset\\MoCA-Mask\\MoCA_Video\\TrainDataset_per_sq\\crab_1\\Eventflow\\positive\n",
      "Removed folder: D:\\Dateset\\MoCA-Mask\\MoCA_Video\\TrainDataset_per_sq\\crab_1\\Eventflow\\positive_new\n",
      "Removed folder: D:\\Dateset\\MoCA-Mask\\MoCA_Video\\TrainDataset_per_sq\\crab_1\\Eventflow\\red_blue_visualization\n",
      "Removed folder: D:\\Dateset\\MoCA-Mask\\MoCA_Video\\TrainDataset_per_sq\\crab_2\\Eventflow\\negative\n",
      "Removed folder: D:\\Dateset\\MoCA-Mask\\MoCA_Video\\TrainDataset_per_sq\\crab_2\\Eventflow\\negative_new\n",
      "Removed folder: D:\\Dateset\\MoCA-Mask\\MoCA_Video\\TrainDataset_per_sq\\crab_2\\Eventflow\\positive\n",
      "Removed folder: D:\\Dateset\\MoCA-Mask\\MoCA_Video\\TrainDataset_per_sq\\crab_2\\Eventflow\\positive_new\n",
      "Removed folder: D:\\Dateset\\MoCA-Mask\\MoCA_Video\\TrainDataset_per_sq\\crab_2\\Eventflow\\red_blue_visualization\n",
      "Removed folder: D:\\Dateset\\MoCA-Mask\\MoCA_Video\\TrainDataset_per_sq\\cuttlefish_1\\Eventflow\\negative\n",
      "Removed folder: D:\\Dateset\\MoCA-Mask\\MoCA_Video\\TrainDataset_per_sq\\cuttlefish_1\\Eventflow\\negative_new\n",
      "Removed folder: D:\\Dateset\\MoCA-Mask\\MoCA_Video\\TrainDataset_per_sq\\cuttlefish_1\\Eventflow\\positive\n",
      "Removed folder: D:\\Dateset\\MoCA-Mask\\MoCA_Video\\TrainDataset_per_sq\\cuttlefish_1\\Eventflow\\positive_new\n",
      "Removed folder: D:\\Dateset\\MoCA-Mask\\MoCA_Video\\TrainDataset_per_sq\\cuttlefish_1\\Eventflow\\red_blue_visualization\n",
      "Removed folder: D:\\Dateset\\MoCA-Mask\\MoCA_Video\\TrainDataset_per_sq\\cuttlefish_4\\Eventflow\\negative\n",
      "Removed folder: D:\\Dateset\\MoCA-Mask\\MoCA_Video\\TrainDataset_per_sq\\cuttlefish_4\\Eventflow\\negative_new\n",
      "Removed folder: D:\\Dateset\\MoCA-Mask\\MoCA_Video\\TrainDataset_per_sq\\cuttlefish_4\\Eventflow\\positive\n",
      "Removed folder: D:\\Dateset\\MoCA-Mask\\MoCA_Video\\TrainDataset_per_sq\\cuttlefish_4\\Eventflow\\positive_new\n",
      "Removed folder: D:\\Dateset\\MoCA-Mask\\MoCA_Video\\TrainDataset_per_sq\\cuttlefish_4\\Eventflow\\red_blue_visualization\n",
      "Removed folder: D:\\Dateset\\MoCA-Mask\\MoCA_Video\\TrainDataset_per_sq\\devil_scorpionfish\\Eventflow\\negative\n",
      "Removed folder: D:\\Dateset\\MoCA-Mask\\MoCA_Video\\TrainDataset_per_sq\\devil_scorpionfish\\Eventflow\\negative_new\n",
      "Removed folder: D:\\Dateset\\MoCA-Mask\\MoCA_Video\\TrainDataset_per_sq\\devil_scorpionfish\\Eventflow\\positive\n",
      "Removed folder: D:\\Dateset\\MoCA-Mask\\MoCA_Video\\TrainDataset_per_sq\\devil_scorpionfish\\Eventflow\\positive_new\n",
      "Removed folder: D:\\Dateset\\MoCA-Mask\\MoCA_Video\\TrainDataset_per_sq\\devil_scorpionfish\\Eventflow\\red_blue_visualization\n",
      "Removed folder: D:\\Dateset\\MoCA-Mask\\MoCA_Video\\TrainDataset_per_sq\\devil_scorpionfish_1\\Eventflow\\negative\n",
      "Removed folder: D:\\Dateset\\MoCA-Mask\\MoCA_Video\\TrainDataset_per_sq\\devil_scorpionfish_1\\Eventflow\\negative_new\n",
      "Removed folder: D:\\Dateset\\MoCA-Mask\\MoCA_Video\\TrainDataset_per_sq\\devil_scorpionfish_1\\Eventflow\\positive\n",
      "Removed folder: D:\\Dateset\\MoCA-Mask\\MoCA_Video\\TrainDataset_per_sq\\devil_scorpionfish_1\\Eventflow\\positive_new\n",
      "Removed folder: D:\\Dateset\\MoCA-Mask\\MoCA_Video\\TrainDataset_per_sq\\devil_scorpionfish_1\\Eventflow\\red_blue_visualization\n",
      "Removed folder: D:\\Dateset\\MoCA-Mask\\MoCA_Video\\TrainDataset_per_sq\\devil_scorpionfish_2\\Eventflow\\negative\n",
      "Removed folder: D:\\Dateset\\MoCA-Mask\\MoCA_Video\\TrainDataset_per_sq\\devil_scorpionfish_2\\Eventflow\\negative_new\n",
      "Removed folder: D:\\Dateset\\MoCA-Mask\\MoCA_Video\\TrainDataset_per_sq\\devil_scorpionfish_2\\Eventflow\\positive\n",
      "Removed folder: D:\\Dateset\\MoCA-Mask\\MoCA_Video\\TrainDataset_per_sq\\devil_scorpionfish_2\\Eventflow\\positive_new\n",
      "Removed folder: D:\\Dateset\\MoCA-Mask\\MoCA_Video\\TrainDataset_per_sq\\devil_scorpionfish_2\\Eventflow\\red_blue_visualization\n"
     ]
    },
    {
     "name": "stderr",
     "output_type": "stream",
     "text": [
      " 13%|█▎        | 9/71 [00:00<00:02, 28.04it/s]"
     ]
    },
    {
     "name": "stdout",
     "output_type": "stream",
     "text": [
      "Removed folder: D:\\Dateset\\MoCA-Mask\\MoCA_Video\\TrainDataset_per_sq\\eastern_screech_owl_0\\Eventflow\\negative\n",
      "Removed folder: D:\\Dateset\\MoCA-Mask\\MoCA_Video\\TrainDataset_per_sq\\eastern_screech_owl_0\\Eventflow\\negative_new\n",
      "Removed folder: D:\\Dateset\\MoCA-Mask\\MoCA_Video\\TrainDataset_per_sq\\eastern_screech_owl_0\\Eventflow\\positive\n",
      "Removed folder: D:\\Dateset\\MoCA-Mask\\MoCA_Video\\TrainDataset_per_sq\\eastern_screech_owl_0\\Eventflow\\positive_new\n",
      "Removed folder: D:\\Dateset\\MoCA-Mask\\MoCA_Video\\TrainDataset_per_sq\\eastern_screech_owl_0\\Eventflow\\red_blue_visualization\n",
      "Removed folder: D:\\Dateset\\MoCA-Mask\\MoCA_Video\\TrainDataset_per_sq\\eastern_screech_owl_1\\Eventflow\\negative\n",
      "Removed folder: D:\\Dateset\\MoCA-Mask\\MoCA_Video\\TrainDataset_per_sq\\eastern_screech_owl_1\\Eventflow\\negative_new\n",
      "Removed folder: D:\\Dateset\\MoCA-Mask\\MoCA_Video\\TrainDataset_per_sq\\eastern_screech_owl_1\\Eventflow\\positive\n",
      "Removed folder: D:\\Dateset\\MoCA-Mask\\MoCA_Video\\TrainDataset_per_sq\\eastern_screech_owl_1\\Eventflow\\positive_new\n"
     ]
    },
    {
     "name": "stderr",
     "output_type": "stream",
     "text": [
      " 17%|█▋        | 12/71 [00:00<00:02, 21.44it/s]"
     ]
    },
    {
     "name": "stdout",
     "output_type": "stream",
     "text": [
      "Removed folder: D:\\Dateset\\MoCA-Mask\\MoCA_Video\\TrainDataset_per_sq\\eastern_screech_owl_1\\Eventflow\\red_blue_visualization\n",
      "Removed folder: D:\\Dateset\\MoCA-Mask\\MoCA_Video\\TrainDataset_per_sq\\egyptian_nightjar\\Eventflow\\negative\n",
      "Removed folder: D:\\Dateset\\MoCA-Mask\\MoCA_Video\\TrainDataset_per_sq\\egyptian_nightjar\\Eventflow\\negative_new\n",
      "Removed folder: D:\\Dateset\\MoCA-Mask\\MoCA_Video\\TrainDataset_per_sq\\egyptian_nightjar\\Eventflow\\positive\n",
      "Removed folder: D:\\Dateset\\MoCA-Mask\\MoCA_Video\\TrainDataset_per_sq\\egyptian_nightjar\\Eventflow\\positive_new\n",
      "Removed folder: D:\\Dateset\\MoCA-Mask\\MoCA_Video\\TrainDataset_per_sq\\egyptian_nightjar\\Eventflow\\red_blue_visualization\n",
      "Removed folder: D:\\Dateset\\MoCA-Mask\\MoCA_Video\\TrainDataset_per_sq\\elephant\\Eventflow\\negative\n",
      "Removed folder: D:\\Dateset\\MoCA-Mask\\MoCA_Video\\TrainDataset_per_sq\\elephant\\Eventflow\\negative_new\n",
      "Removed folder: D:\\Dateset\\MoCA-Mask\\MoCA_Video\\TrainDataset_per_sq\\elephant\\Eventflow\\positive\n",
      "Removed folder: D:\\Dateset\\MoCA-Mask\\MoCA_Video\\TrainDataset_per_sq\\elephant\\Eventflow\\positive_new\n",
      "Removed folder: D:\\Dateset\\MoCA-Mask\\MoCA_Video\\TrainDataset_per_sq\\elephant\\Eventflow\\red_blue_visualization\n",
      "Removed folder: D:\\Dateset\\MoCA-Mask\\MoCA_Video\\TrainDataset_per_sq\\flatfish_0\\Eventflow\\negative\n",
      "Removed folder: D:\\Dateset\\MoCA-Mask\\MoCA_Video\\TrainDataset_per_sq\\flatfish_0\\Eventflow\\negative_new\n",
      "Removed folder: D:\\Dateset\\MoCA-Mask\\MoCA_Video\\TrainDataset_per_sq\\flatfish_0\\Eventflow\\positive\n",
      "Removed folder: D:\\Dateset\\MoCA-Mask\\MoCA_Video\\TrainDataset_per_sq\\flatfish_0\\Eventflow\\positive_new\n"
     ]
    },
    {
     "name": "stderr",
     "output_type": "stream",
     "text": [
      " 25%|██▌       | 18/71 [00:00<00:02, 19.26it/s]"
     ]
    },
    {
     "name": "stdout",
     "output_type": "stream",
     "text": [
      "Removed folder: D:\\Dateset\\MoCA-Mask\\MoCA_Video\\TrainDataset_per_sq\\flatfish_0\\Eventflow\\red_blue_visualization\n",
      "Removed folder: D:\\Dateset\\MoCA-Mask\\MoCA_Video\\TrainDataset_per_sq\\flatfish_1\\Eventflow\\negative\n",
      "Removed folder: D:\\Dateset\\MoCA-Mask\\MoCA_Video\\TrainDataset_per_sq\\flatfish_1\\Eventflow\\negative_new\n",
      "Removed folder: D:\\Dateset\\MoCA-Mask\\MoCA_Video\\TrainDataset_per_sq\\flatfish_1\\Eventflow\\positive\n",
      "Removed folder: D:\\Dateset\\MoCA-Mask\\MoCA_Video\\TrainDataset_per_sq\\flatfish_1\\Eventflow\\positive_new\n",
      "Removed folder: D:\\Dateset\\MoCA-Mask\\MoCA_Video\\TrainDataset_per_sq\\flatfish_1\\Eventflow\\red_blue_visualization\n",
      "Removed folder: D:\\Dateset\\MoCA-Mask\\MoCA_Video\\TrainDataset_per_sq\\flatfish_2\\Eventflow\\negative\n",
      "Removed folder: D:\\Dateset\\MoCA-Mask\\MoCA_Video\\TrainDataset_per_sq\\flatfish_2\\Eventflow\\negative_new\n",
      "Removed folder: D:\\Dateset\\MoCA-Mask\\MoCA_Video\\TrainDataset_per_sq\\flatfish_2\\Eventflow\\positive\n",
      "Removed folder: D:\\Dateset\\MoCA-Mask\\MoCA_Video\\TrainDataset_per_sq\\flatfish_2\\Eventflow\\positive_new\n",
      "Removed folder: D:\\Dateset\\MoCA-Mask\\MoCA_Video\\TrainDataset_per_sq\\flatfish_2\\Eventflow\\red_blue_visualization\n",
      "Removed folder: D:\\Dateset\\MoCA-Mask\\MoCA_Video\\TrainDataset_per_sq\\flatfish_3\\Eventflow\\negative\n",
      "Removed folder: D:\\Dateset\\MoCA-Mask\\MoCA_Video\\TrainDataset_per_sq\\flatfish_3\\Eventflow\\negative_new\n",
      "Removed folder: D:\\Dateset\\MoCA-Mask\\MoCA_Video\\TrainDataset_per_sq\\flatfish_3\\Eventflow\\positive\n",
      "Removed folder: D:\\Dateset\\MoCA-Mask\\MoCA_Video\\TrainDataset_per_sq\\flatfish_3\\Eventflow\\positive_new\n",
      "Removed folder: D:\\Dateset\\MoCA-Mask\\MoCA_Video\\TrainDataset_per_sq\\flatfish_3\\Eventflow\\red_blue_visualization\n",
      "Removed folder: D:\\Dateset\\MoCA-Mask\\MoCA_Video\\TrainDataset_per_sq\\flatfish_4\\Eventflow\\negative\n",
      "Removed folder: D:\\Dateset\\MoCA-Mask\\MoCA_Video\\TrainDataset_per_sq\\flatfish_4\\Eventflow\\negative_new\n",
      "Removed folder: D:\\Dateset\\MoCA-Mask\\MoCA_Video\\TrainDataset_per_sq\\flatfish_4\\Eventflow\\positive\n",
      "Removed folder: D:\\Dateset\\MoCA-Mask\\MoCA_Video\\TrainDataset_per_sq\\flatfish_4\\Eventflow\\positive_new\n",
      "Removed folder: D:\\Dateset\\MoCA-Mask\\MoCA_Video\\TrainDataset_per_sq\\flatfish_4\\Eventflow\\red_blue_visualization\n",
      "Removed folder: D:\\Dateset\\MoCA-Mask\\MoCA_Video\\TrainDataset_per_sq\\flounder\\Eventflow\\negative\n",
      "Removed folder: D:\\Dateset\\MoCA-Mask\\MoCA_Video\\TrainDataset_per_sq\\flounder\\Eventflow\\negative_new\n",
      "Removed folder: D:\\Dateset\\MoCA-Mask\\MoCA_Video\\TrainDataset_per_sq\\flounder\\Eventflow\\positive\n",
      "Removed folder: D:\\Dateset\\MoCA-Mask\\MoCA_Video\\TrainDataset_per_sq\\flounder\\Eventflow\\positive_new\n",
      "Removed folder: D:\\Dateset\\MoCA-Mask\\MoCA_Video\\TrainDataset_per_sq\\flounder\\Eventflow\\red_blue_visualization\n",
      "Removed folder: D:\\Dateset\\MoCA-Mask\\MoCA_Video\\TrainDataset_per_sq\\flounder_3\\Eventflow\\negative\n",
      "Removed folder: D:\\Dateset\\MoCA-Mask\\MoCA_Video\\TrainDataset_per_sq\\flounder_3\\Eventflow\\negative_new\n",
      "Removed folder: D:\\Dateset\\MoCA-Mask\\MoCA_Video\\TrainDataset_per_sq\\flounder_3\\Eventflow\\positive\n",
      "Removed folder: D:\\Dateset\\MoCA-Mask\\MoCA_Video\\TrainDataset_per_sq\\flounder_3\\Eventflow\\positive_new\n",
      "Removed folder: D:\\Dateset\\MoCA-Mask\\MoCA_Video\\TrainDataset_per_sq\\flounder_3\\Eventflow\\red_blue_visualization\n",
      "Removed folder: D:\\Dateset\\MoCA-Mask\\MoCA_Video\\TrainDataset_per_sq\\flounder_4\\Eventflow\\negative\n",
      "Removed folder: D:\\Dateset\\MoCA-Mask\\MoCA_Video\\TrainDataset_per_sq\\flounder_4\\Eventflow\\negative_new\n",
      "Removed folder: D:\\Dateset\\MoCA-Mask\\MoCA_Video\\TrainDataset_per_sq\\flounder_4\\Eventflow\\positive\n",
      "Removed folder: D:\\Dateset\\MoCA-Mask\\MoCA_Video\\TrainDataset_per_sq\\flounder_4\\Eventflow\\positive_new\n",
      "Removed folder: D:\\Dateset\\MoCA-Mask\\MoCA_Video\\TrainDataset_per_sq\\flounder_4\\Eventflow\\red_blue_visualization\n",
      "Removed folder: D:\\Dateset\\MoCA-Mask\\MoCA_Video\\TrainDataset_per_sq\\flounder_5\\Eventflow\\negative\n",
      "Removed folder: D:\\Dateset\\MoCA-Mask\\MoCA_Video\\TrainDataset_per_sq\\flounder_5\\Eventflow\\negative_new\n",
      "Removed folder: D:\\Dateset\\MoCA-Mask\\MoCA_Video\\TrainDataset_per_sq\\flounder_5\\Eventflow\\positive\n",
      "Removed folder: D:\\Dateset\\MoCA-Mask\\MoCA_Video\\TrainDataset_per_sq\\flounder_5\\Eventflow\\positive_new\n",
      "Removed folder: D:\\Dateset\\MoCA-Mask\\MoCA_Video\\TrainDataset_per_sq\\flounder_5\\Eventflow\\red_blue_visualization\n",
      "Removed folder: D:\\Dateset\\MoCA-Mask\\MoCA_Video\\TrainDataset_per_sq\\flounder_6\\Eventflow\\negative\n",
      "Removed folder: D:\\Dateset\\MoCA-Mask\\MoCA_Video\\TrainDataset_per_sq\\flounder_6\\Eventflow\\negative_new\n",
      "Removed folder: D:\\Dateset\\MoCA-Mask\\MoCA_Video\\TrainDataset_per_sq\\flounder_6\\Eventflow\\positive\n",
      "Removed folder: D:\\Dateset\\MoCA-Mask\\MoCA_Video\\TrainDataset_per_sq\\flounder_6\\Eventflow\\positive_new\n"
     ]
    },
    {
     "name": "stderr",
     "output_type": "stream",
     "text": [
      " 35%|███▌      | 25/71 [00:01<00:02, 20.61it/s]"
     ]
    },
    {
     "name": "stdout",
     "output_type": "stream",
     "text": [
      "Removed folder: D:\\Dateset\\MoCA-Mask\\MoCA_Video\\TrainDataset_per_sq\\flounder_6\\Eventflow\\red_blue_visualization\n",
      "Removed folder: D:\\Dateset\\MoCA-Mask\\MoCA_Video\\TrainDataset_per_sq\\flounder_8\\Eventflow\\negative\n",
      "Removed folder: D:\\Dateset\\MoCA-Mask\\MoCA_Video\\TrainDataset_per_sq\\flounder_8\\Eventflow\\negative_new\n",
      "Removed folder: D:\\Dateset\\MoCA-Mask\\MoCA_Video\\TrainDataset_per_sq\\flounder_8\\Eventflow\\positive\n",
      "Removed folder: D:\\Dateset\\MoCA-Mask\\MoCA_Video\\TrainDataset_per_sq\\flounder_8\\Eventflow\\positive_new\n",
      "Removed folder: D:\\Dateset\\MoCA-Mask\\MoCA_Video\\TrainDataset_per_sq\\flounder_8\\Eventflow\\red_blue_visualization\n",
      "Removed folder: D:\\Dateset\\MoCA-Mask\\MoCA_Video\\TrainDataset_per_sq\\flounder_9\\Eventflow\\negative\n",
      "Removed folder: D:\\Dateset\\MoCA-Mask\\MoCA_Video\\TrainDataset_per_sq\\flounder_9\\Eventflow\\negative_new\n",
      "Removed folder: D:\\Dateset\\MoCA-Mask\\MoCA_Video\\TrainDataset_per_sq\\flounder_9\\Eventflow\\positive\n",
      "Removed folder: D:\\Dateset\\MoCA-Mask\\MoCA_Video\\TrainDataset_per_sq\\flounder_9\\Eventflow\\positive_new\n",
      "Removed folder: D:\\Dateset\\MoCA-Mask\\MoCA_Video\\TrainDataset_per_sq\\flounder_9\\Eventflow\\red_blue_visualization\n",
      "Removed folder: D:\\Dateset\\MoCA-Mask\\MoCA_Video\\TrainDataset_per_sq\\grasshopper_0\\Eventflow\\negative\n",
      "Removed folder: D:\\Dateset\\MoCA-Mask\\MoCA_Video\\TrainDataset_per_sq\\grasshopper_0\\Eventflow\\negative_new\n",
      "Removed folder: D:\\Dateset\\MoCA-Mask\\MoCA_Video\\TrainDataset_per_sq\\grasshopper_0\\Eventflow\\positive\n",
      "Removed folder: D:\\Dateset\\MoCA-Mask\\MoCA_Video\\TrainDataset_per_sq\\grasshopper_0\\Eventflow\\positive_new\n",
      "Removed folder: D:\\Dateset\\MoCA-Mask\\MoCA_Video\\TrainDataset_per_sq\\grasshopper_0\\Eventflow\\red_blue_visualization\n",
      "Removed folder: D:\\Dateset\\MoCA-Mask\\MoCA_Video\\TrainDataset_per_sq\\grasshopper_1\\Eventflow\\negative\n",
      "Removed folder: D:\\Dateset\\MoCA-Mask\\MoCA_Video\\TrainDataset_per_sq\\grasshopper_1\\Eventflow\\negative_new\n",
      "Removed folder: D:\\Dateset\\MoCA-Mask\\MoCA_Video\\TrainDataset_per_sq\\grasshopper_1\\Eventflow\\positive\n",
      "Removed folder: D:\\Dateset\\MoCA-Mask\\MoCA_Video\\TrainDataset_per_sq\\grasshopper_1\\Eventflow\\positive_new\n",
      "Removed folder: D:\\Dateset\\MoCA-Mask\\MoCA_Video\\TrainDataset_per_sq\\grasshopper_1\\Eventflow\\red_blue_visualization\n"
     ]
    },
    {
     "name": "stderr",
     "output_type": "stream",
     "text": [
      " 39%|███▉      | 28/71 [00:01<00:02, 21.26it/s]"
     ]
    },
    {
     "name": "stdout",
     "output_type": "stream",
     "text": [
      "Removed folder: D:\\Dateset\\MoCA-Mask\\MoCA_Video\\TrainDataset_per_sq\\hedgehog_0\\Eventflow\\negative\n",
      "Removed folder: D:\\Dateset\\MoCA-Mask\\MoCA_Video\\TrainDataset_per_sq\\hedgehog_0\\Eventflow\\negative_new\n",
      "Removed folder: D:\\Dateset\\MoCA-Mask\\MoCA_Video\\TrainDataset_per_sq\\hedgehog_0\\Eventflow\\positive\n",
      "Removed folder: D:\\Dateset\\MoCA-Mask\\MoCA_Video\\TrainDataset_per_sq\\hedgehog_0\\Eventflow\\positive_new\n",
      "Removed folder: D:\\Dateset\\MoCA-Mask\\MoCA_Video\\TrainDataset_per_sq\\hedgehog_0\\Eventflow\\red_blue_visualization\n",
      "Removed folder: D:\\Dateset\\MoCA-Mask\\MoCA_Video\\TrainDataset_per_sq\\hedgehog_1\\Eventflow\\negative\n",
      "Removed folder: D:\\Dateset\\MoCA-Mask\\MoCA_Video\\TrainDataset_per_sq\\hedgehog_1\\Eventflow\\negative_new\n",
      "Removed folder: D:\\Dateset\\MoCA-Mask\\MoCA_Video\\TrainDataset_per_sq\\hedgehog_1\\Eventflow\\positive\n",
      "Removed folder: D:\\Dateset\\MoCA-Mask\\MoCA_Video\\TrainDataset_per_sq\\hedgehog_1\\Eventflow\\positive_new\n",
      "Removed folder: D:\\Dateset\\MoCA-Mask\\MoCA_Video\\TrainDataset_per_sq\\hedgehog_1\\Eventflow\\red_blue_visualization\n",
      "Removed folder: D:\\Dateset\\MoCA-Mask\\MoCA_Video\\TrainDataset_per_sq\\hedgehog_2\\Eventflow\\negative\n",
      "Removed folder: D:\\Dateset\\MoCA-Mask\\MoCA_Video\\TrainDataset_per_sq\\hedgehog_2\\Eventflow\\negative_new\n",
      "Removed folder: D:\\Dateset\\MoCA-Mask\\MoCA_Video\\TrainDataset_per_sq\\hedgehog_2\\Eventflow\\positive\n",
      "Removed folder: D:\\Dateset\\MoCA-Mask\\MoCA_Video\\TrainDataset_per_sq\\hedgehog_2\\Eventflow\\positive_new\n",
      "Removed folder: D:\\Dateset\\MoCA-Mask\\MoCA_Video\\TrainDataset_per_sq\\hedgehog_2\\Eventflow\\red_blue_visualization\n",
      "Removed folder: D:\\Dateset\\MoCA-Mask\\MoCA_Video\\TrainDataset_per_sq\\hermit_crab\\Eventflow\\negative\n",
      "Removed folder: D:\\Dateset\\MoCA-Mask\\MoCA_Video\\TrainDataset_per_sq\\hermit_crab\\Eventflow\\negative_new\n",
      "Removed folder: D:\\Dateset\\MoCA-Mask\\MoCA_Video\\TrainDataset_per_sq\\hermit_crab\\Eventflow\\positive\n",
      "Removed folder: D:\\Dateset\\MoCA-Mask\\MoCA_Video\\TrainDataset_per_sq\\hermit_crab\\Eventflow\\positive_new\n",
      "Removed folder: D:\\Dateset\\MoCA-Mask\\MoCA_Video\\TrainDataset_per_sq\\hermit_crab\\Eventflow\\red_blue_visualization\n",
      "Removed folder: D:\\Dateset\\MoCA-Mask\\MoCA_Video\\TrainDataset_per_sq\\jerboa\\Eventflow\\negative\n",
      "Removed folder: D:\\Dateset\\MoCA-Mask\\MoCA_Video\\TrainDataset_per_sq\\jerboa\\Eventflow\\negative_new\n",
      "Removed folder: D:\\Dateset\\MoCA-Mask\\MoCA_Video\\TrainDataset_per_sq\\jerboa\\Eventflow\\positive\n",
      "Removed folder: D:\\Dateset\\MoCA-Mask\\MoCA_Video\\TrainDataset_per_sq\\jerboa\\Eventflow\\positive_new\n",
      "Removed folder: D:\\Dateset\\MoCA-Mask\\MoCA_Video\\TrainDataset_per_sq\\jerboa\\Eventflow\\red_blue_visualization\n",
      "Removed folder: D:\\Dateset\\MoCA-Mask\\MoCA_Video\\TrainDataset_per_sq\\leaf_tail_gecko\\Eventflow\\negative\n",
      "Removed folder: D:\\Dateset\\MoCA-Mask\\MoCA_Video\\TrainDataset_per_sq\\leaf_tail_gecko\\Eventflow\\negative_new\n",
      "Removed folder: D:\\Dateset\\MoCA-Mask\\MoCA_Video\\TrainDataset_per_sq\\leaf_tail_gecko\\Eventflow\\positive\n",
      "Removed folder: D:\\Dateset\\MoCA-Mask\\MoCA_Video\\TrainDataset_per_sq\\leaf_tail_gecko\\Eventflow\\positive_new\n",
      "Removed folder: D:\\Dateset\\MoCA-Mask\\MoCA_Video\\TrainDataset_per_sq\\leaf_tail_gecko\\Eventflow\\red_blue_visualization\n",
      "Removed folder: D:\\Dateset\\MoCA-Mask\\MoCA_Video\\TrainDataset_per_sq\\lichen_katydid\\Eventflow\\negative\n"
     ]
    },
    {
     "name": "stderr",
     "output_type": "stream",
     "text": [
      " 46%|████▋     | 33/71 [00:01<00:02, 18.02it/s]"
     ]
    },
    {
     "name": "stdout",
     "output_type": "stream",
     "text": [
      "Removed folder: D:\\Dateset\\MoCA-Mask\\MoCA_Video\\TrainDataset_per_sq\\lichen_katydid\\Eventflow\\negative_new\n",
      "Removed folder: D:\\Dateset\\MoCA-Mask\\MoCA_Video\\TrainDataset_per_sq\\lichen_katydid\\Eventflow\\positive\n",
      "Removed folder: D:\\Dateset\\MoCA-Mask\\MoCA_Video\\TrainDataset_per_sq\\lichen_katydid\\Eventflow\\positive_new\n",
      "Removed folder: D:\\Dateset\\MoCA-Mask\\MoCA_Video\\TrainDataset_per_sq\\lichen_katydid\\Eventflow\\red_blue_visualization\n",
      "Removed folder: D:\\Dateset\\MoCA-Mask\\MoCA_Video\\TrainDataset_per_sq\\markhor\\Eventflow\\negative\n",
      "Removed folder: D:\\Dateset\\MoCA-Mask\\MoCA_Video\\TrainDataset_per_sq\\markhor\\Eventflow\\negative_new\n",
      "Removed folder: D:\\Dateset\\MoCA-Mask\\MoCA_Video\\TrainDataset_per_sq\\markhor\\Eventflow\\positive\n",
      "Removed folder: D:\\Dateset\\MoCA-Mask\\MoCA_Video\\TrainDataset_per_sq\\markhor\\Eventflow\\positive_new\n",
      "Removed folder: D:\\Dateset\\MoCA-Mask\\MoCA_Video\\TrainDataset_per_sq\\markhor\\Eventflow\\red_blue_visualization\n",
      "Removed folder: D:\\Dateset\\MoCA-Mask\\MoCA_Video\\TrainDataset_per_sq\\mountain_goat\\Eventflow\\negative\n",
      "Removed folder: D:\\Dateset\\MoCA-Mask\\MoCA_Video\\TrainDataset_per_sq\\mountain_goat\\Eventflow\\negative_new\n",
      "Removed folder: D:\\Dateset\\MoCA-Mask\\MoCA_Video\\TrainDataset_per_sq\\mountain_goat\\Eventflow\\positive\n",
      "Removed folder: D:\\Dateset\\MoCA-Mask\\MoCA_Video\\TrainDataset_per_sq\\mountain_goat\\Eventflow\\positive_new\n",
      "Removed folder: D:\\Dateset\\MoCA-Mask\\MoCA_Video\\TrainDataset_per_sq\\mountain_goat\\Eventflow\\red_blue_visualization\n"
     ]
    },
    {
     "name": "stderr",
     "output_type": "stream",
     "text": [
      " 51%|█████     | 36/71 [00:01<00:01, 17.62it/s]"
     ]
    },
    {
     "name": "stdout",
     "output_type": "stream",
     "text": [
      "Removed folder: D:\\Dateset\\MoCA-Mask\\MoCA_Video\\TrainDataset_per_sq\\nile_monitor_0\\Eventflow\\negative\n",
      "Removed folder: D:\\Dateset\\MoCA-Mask\\MoCA_Video\\TrainDataset_per_sq\\nile_monitor_0\\Eventflow\\negative_new\n",
      "Removed folder: D:\\Dateset\\MoCA-Mask\\MoCA_Video\\TrainDataset_per_sq\\nile_monitor_0\\Eventflow\\positive\n",
      "Removed folder: D:\\Dateset\\MoCA-Mask\\MoCA_Video\\TrainDataset_per_sq\\nile_monitor_0\\Eventflow\\positive_new\n",
      "Removed folder: D:\\Dateset\\MoCA-Mask\\MoCA_Video\\TrainDataset_per_sq\\nile_monitor_0\\Eventflow\\red_blue_visualization\n",
      "Removed folder: D:\\Dateset\\MoCA-Mask\\MoCA_Video\\TrainDataset_per_sq\\octopus\\Eventflow\\negative\n",
      "Removed folder: D:\\Dateset\\MoCA-Mask\\MoCA_Video\\TrainDataset_per_sq\\octopus\\Eventflow\\negative_new\n",
      "Removed folder: D:\\Dateset\\MoCA-Mask\\MoCA_Video\\TrainDataset_per_sq\\octopus\\Eventflow\\positive\n"
     ]
    },
    {
     "name": "stderr",
     "output_type": "stream",
     "text": [
      " 54%|█████▎    | 38/71 [00:01<00:02, 16.45it/s]"
     ]
    },
    {
     "name": "stdout",
     "output_type": "stream",
     "text": [
      "Removed folder: D:\\Dateset\\MoCA-Mask\\MoCA_Video\\TrainDataset_per_sq\\octopus\\Eventflow\\positive_new\n",
      "Removed folder: D:\\Dateset\\MoCA-Mask\\MoCA_Video\\TrainDataset_per_sq\\octopus\\Eventflow\\red_blue_visualization\n",
      "Removed folder: D:\\Dateset\\MoCA-Mask\\MoCA_Video\\TrainDataset_per_sq\\orchid_mantis\\Eventflow\\negative\n",
      "Removed folder: D:\\Dateset\\MoCA-Mask\\MoCA_Video\\TrainDataset_per_sq\\orchid_mantis\\Eventflow\\negative_new\n",
      "Removed folder: D:\\Dateset\\MoCA-Mask\\MoCA_Video\\TrainDataset_per_sq\\orchid_mantis\\Eventflow\\positive\n",
      "Removed folder: D:\\Dateset\\MoCA-Mask\\MoCA_Video\\TrainDataset_per_sq\\orchid_mantis\\Eventflow\\positive_new\n",
      "Removed folder: D:\\Dateset\\MoCA-Mask\\MoCA_Video\\TrainDataset_per_sq\\orchid_mantis\\Eventflow\\red_blue_visualization\n",
      "Removed folder: D:\\Dateset\\MoCA-Mask\\MoCA_Video\\TrainDataset_per_sq\\pallas_cat\\Eventflow\\negative\n",
      "Removed folder: D:\\Dateset\\MoCA-Mask\\MoCA_Video\\TrainDataset_per_sq\\pallas_cat\\Eventflow\\negative_new\n",
      "Removed folder: D:\\Dateset\\MoCA-Mask\\MoCA_Video\\TrainDataset_per_sq\\pallas_cat\\Eventflow\\positive\n",
      "Removed folder: D:\\Dateset\\MoCA-Mask\\MoCA_Video\\TrainDataset_per_sq\\pallas_cat\\Eventflow\\positive_new\n",
      "Removed folder: D:\\Dateset\\MoCA-Mask\\MoCA_Video\\TrainDataset_per_sq\\pallas_cat\\Eventflow\\red_blue_visualization\n",
      "Removed folder: D:\\Dateset\\MoCA-Mask\\MoCA_Video\\TrainDataset_per_sq\\peacock_flounder_0\\Eventflow\\negative\n",
      "Removed folder: D:\\Dateset\\MoCA-Mask\\MoCA_Video\\TrainDataset_per_sq\\peacock_flounder_0\\Eventflow\\negative_new\n",
      "Removed folder: D:\\Dateset\\MoCA-Mask\\MoCA_Video\\TrainDataset_per_sq\\peacock_flounder_0\\Eventflow\\positive\n",
      "Removed folder: D:\\Dateset\\MoCA-Mask\\MoCA_Video\\TrainDataset_per_sq\\peacock_flounder_0\\Eventflow\\positive_new\n",
      "Removed folder: D:\\Dateset\\MoCA-Mask\\MoCA_Video\\TrainDataset_per_sq\\peacock_flounder_0\\Eventflow\\red_blue_visualization\n",
      "Removed folder: D:\\Dateset\\MoCA-Mask\\MoCA_Video\\TrainDataset_per_sq\\peacock_flounder_1\\Eventflow\\negative\n",
      "Removed folder: D:\\Dateset\\MoCA-Mask\\MoCA_Video\\TrainDataset_per_sq\\peacock_flounder_1\\Eventflow\\negative_new\n",
      "Removed folder: D:\\Dateset\\MoCA-Mask\\MoCA_Video\\TrainDataset_per_sq\\peacock_flounder_1\\Eventflow\\positive\n"
     ]
    },
    {
     "name": "stderr",
     "output_type": "stream",
     "text": [
      " 58%|█████▊    | 41/71 [00:02<00:01, 16.93it/s]"
     ]
    },
    {
     "name": "stdout",
     "output_type": "stream",
     "text": [
      "Removed folder: D:\\Dateset\\MoCA-Mask\\MoCA_Video\\TrainDataset_per_sq\\peacock_flounder_1\\Eventflow\\positive_new\n",
      "Removed folder: D:\\Dateset\\MoCA-Mask\\MoCA_Video\\TrainDataset_per_sq\\peacock_flounder_1\\Eventflow\\red_blue_visualization\n",
      "Removed folder: D:\\Dateset\\MoCA-Mask\\MoCA_Video\\TrainDataset_per_sq\\peacock_flounder_2\\Eventflow\\negative\n",
      "Removed folder: D:\\Dateset\\MoCA-Mask\\MoCA_Video\\TrainDataset_per_sq\\peacock_flounder_2\\Eventflow\\negative_new\n",
      "Removed folder: D:\\Dateset\\MoCA-Mask\\MoCA_Video\\TrainDataset_per_sq\\peacock_flounder_2\\Eventflow\\positive\n",
      "Removed folder: D:\\Dateset\\MoCA-Mask\\MoCA_Video\\TrainDataset_per_sq\\peacock_flounder_2\\Eventflow\\positive_new\n",
      "Removed folder: D:\\Dateset\\MoCA-Mask\\MoCA_Video\\TrainDataset_per_sq\\peacock_flounder_2\\Eventflow\\red_blue_visualization\n",
      "Removed folder: D:\\Dateset\\MoCA-Mask\\MoCA_Video\\TrainDataset_per_sq\\plaice\\Eventflow\\negative\n",
      "Removed folder: D:\\Dateset\\MoCA-Mask\\MoCA_Video\\TrainDataset_per_sq\\plaice\\Eventflow\\negative_new\n",
      "Removed folder: D:\\Dateset\\MoCA-Mask\\MoCA_Video\\TrainDataset_per_sq\\plaice\\Eventflow\\positive\n",
      "Removed folder: D:\\Dateset\\MoCA-Mask\\MoCA_Video\\TrainDataset_per_sq\\plaice\\Eventflow\\positive_new\n"
     ]
    },
    {
     "name": "stderr",
     "output_type": "stream",
     "text": [
      " 63%|██████▎   | 45/71 [00:02<00:01, 13.78it/s]"
     ]
    },
    {
     "name": "stdout",
     "output_type": "stream",
     "text": [
      "Removed folder: D:\\Dateset\\MoCA-Mask\\MoCA_Video\\TrainDataset_per_sq\\plaice\\Eventflow\\red_blue_visualization\n",
      "Removed folder: D:\\Dateset\\MoCA-Mask\\MoCA_Video\\TrainDataset_per_sq\\polar_bear_0\\Eventflow\\negative\n",
      "Removed folder: D:\\Dateset\\MoCA-Mask\\MoCA_Video\\TrainDataset_per_sq\\polar_bear_0\\Eventflow\\negative_new\n",
      "Removed folder: D:\\Dateset\\MoCA-Mask\\MoCA_Video\\TrainDataset_per_sq\\polar_bear_0\\Eventflow\\positive\n",
      "Removed folder: D:\\Dateset\\MoCA-Mask\\MoCA_Video\\TrainDataset_per_sq\\polar_bear_0\\Eventflow\\positive_new\n",
      "Removed folder: D:\\Dateset\\MoCA-Mask\\MoCA_Video\\TrainDataset_per_sq\\polar_bear_0\\Eventflow\\red_blue_visualization\n",
      "Removed folder: D:\\Dateset\\MoCA-Mask\\MoCA_Video\\TrainDataset_per_sq\\potoo\\Eventflow\\negative\n",
      "Removed folder: D:\\Dateset\\MoCA-Mask\\MoCA_Video\\TrainDataset_per_sq\\potoo\\Eventflow\\negative_new\n",
      "Removed folder: D:\\Dateset\\MoCA-Mask\\MoCA_Video\\TrainDataset_per_sq\\potoo\\Eventflow\\positive\n",
      "Removed folder: D:\\Dateset\\MoCA-Mask\\MoCA_Video\\TrainDataset_per_sq\\potoo\\Eventflow\\positive_new\n",
      "Removed folder: D:\\Dateset\\MoCA-Mask\\MoCA_Video\\TrainDataset_per_sq\\potoo\\Eventflow\\red_blue_visualization\n",
      "Removed folder: D:\\Dateset\\MoCA-Mask\\MoCA_Video\\TrainDataset_per_sq\\pygmy_seahorse_1\\Eventflow\\negative\n",
      "Removed folder: D:\\Dateset\\MoCA-Mask\\MoCA_Video\\TrainDataset_per_sq\\pygmy_seahorse_1\\Eventflow\\negative_new\n",
      "Removed folder: D:\\Dateset\\MoCA-Mask\\MoCA_Video\\TrainDataset_per_sq\\pygmy_seahorse_1\\Eventflow\\positive\n",
      "Removed folder: D:\\Dateset\\MoCA-Mask\\MoCA_Video\\TrainDataset_per_sq\\pygmy_seahorse_1\\Eventflow\\positive_new\n",
      "Removed folder: D:\\Dateset\\MoCA-Mask\\MoCA_Video\\TrainDataset_per_sq\\pygmy_seahorse_1\\Eventflow\\red_blue_visualization\n",
      "Removed folder: D:\\Dateset\\MoCA-Mask\\MoCA_Video\\TrainDataset_per_sq\\pygmy_seahorse_2\\Eventflow\\negative\n",
      "Removed folder: D:\\Dateset\\MoCA-Mask\\MoCA_Video\\TrainDataset_per_sq\\pygmy_seahorse_2\\Eventflow\\negative_new\n"
     ]
    },
    {
     "name": "stderr",
     "output_type": "stream",
     "text": [
      " 73%|███████▎  | 52/71 [00:02<00:00, 20.05it/s]"
     ]
    },
    {
     "name": "stdout",
     "output_type": "stream",
     "text": [
      "Removed folder: D:\\Dateset\\MoCA-Mask\\MoCA_Video\\TrainDataset_per_sq\\pygmy_seahorse_2\\Eventflow\\positive\n",
      "Removed folder: D:\\Dateset\\MoCA-Mask\\MoCA_Video\\TrainDataset_per_sq\\pygmy_seahorse_2\\Eventflow\\positive_new\n",
      "Removed folder: D:\\Dateset\\MoCA-Mask\\MoCA_Video\\TrainDataset_per_sq\\pygmy_seahorse_2\\Eventflow\\red_blue_visualization\n",
      "Removed folder: D:\\Dateset\\MoCA-Mask\\MoCA_Video\\TrainDataset_per_sq\\pygmy_seahorse_3\\Eventflow\\negative\n",
      "Removed folder: D:\\Dateset\\MoCA-Mask\\MoCA_Video\\TrainDataset_per_sq\\pygmy_seahorse_3\\Eventflow\\negative_new\n",
      "Removed folder: D:\\Dateset\\MoCA-Mask\\MoCA_Video\\TrainDataset_per_sq\\pygmy_seahorse_3\\Eventflow\\positive\n",
      "Removed folder: D:\\Dateset\\MoCA-Mask\\MoCA_Video\\TrainDataset_per_sq\\pygmy_seahorse_3\\Eventflow\\positive_new\n",
      "Removed folder: D:\\Dateset\\MoCA-Mask\\MoCA_Video\\TrainDataset_per_sq\\pygmy_seahorse_3\\Eventflow\\red_blue_visualization\n",
      "Removed folder: D:\\Dateset\\MoCA-Mask\\MoCA_Video\\TrainDataset_per_sq\\pygmy_seahorse_4\\Eventflow\\negative\n",
      "Removed folder: D:\\Dateset\\MoCA-Mask\\MoCA_Video\\TrainDataset_per_sq\\pygmy_seahorse_4\\Eventflow\\negative_new\n",
      "Removed folder: D:\\Dateset\\MoCA-Mask\\MoCA_Video\\TrainDataset_per_sq\\pygmy_seahorse_4\\Eventflow\\positive\n",
      "Removed folder: D:\\Dateset\\MoCA-Mask\\MoCA_Video\\TrainDataset_per_sq\\pygmy_seahorse_4\\Eventflow\\positive_new\n",
      "Removed folder: D:\\Dateset\\MoCA-Mask\\MoCA_Video\\TrainDataset_per_sq\\pygmy_seahorse_4\\Eventflow\\red_blue_visualization\n",
      "Removed folder: D:\\Dateset\\MoCA-Mask\\MoCA_Video\\TrainDataset_per_sq\\rusty_spotted_cat_1\\Eventflow\\negative\n",
      "Removed folder: D:\\Dateset\\MoCA-Mask\\MoCA_Video\\TrainDataset_per_sq\\rusty_spotted_cat_1\\Eventflow\\negative_new\n",
      "Removed folder: D:\\Dateset\\MoCA-Mask\\MoCA_Video\\TrainDataset_per_sq\\rusty_spotted_cat_1\\Eventflow\\positive\n",
      "Removed folder: D:\\Dateset\\MoCA-Mask\\MoCA_Video\\TrainDataset_per_sq\\rusty_spotted_cat_1\\Eventflow\\positive_new\n",
      "Removed folder: D:\\Dateset\\MoCA-Mask\\MoCA_Video\\TrainDataset_per_sq\\rusty_spotted_cat_1\\Eventflow\\red_blue_visualization\n",
      "Removed folder: D:\\Dateset\\MoCA-Mask\\MoCA_Video\\TrainDataset_per_sq\\scorpionfish_0\\Eventflow\\negative\n",
      "Removed folder: D:\\Dateset\\MoCA-Mask\\MoCA_Video\\TrainDataset_per_sq\\scorpionfish_0\\Eventflow\\negative_new\n",
      "Removed folder: D:\\Dateset\\MoCA-Mask\\MoCA_Video\\TrainDataset_per_sq\\scorpionfish_0\\Eventflow\\positive\n",
      "Removed folder: D:\\Dateset\\MoCA-Mask\\MoCA_Video\\TrainDataset_per_sq\\scorpionfish_0\\Eventflow\\positive_new\n",
      "Removed folder: D:\\Dateset\\MoCA-Mask\\MoCA_Video\\TrainDataset_per_sq\\scorpionfish_0\\Eventflow\\red_blue_visualization\n",
      "Removed folder: D:\\Dateset\\MoCA-Mask\\MoCA_Video\\TrainDataset_per_sq\\scorpionfish_2\\Eventflow\\negative\n",
      "Removed folder: D:\\Dateset\\MoCA-Mask\\MoCA_Video\\TrainDataset_per_sq\\scorpionfish_2\\Eventflow\\negative_new\n",
      "Removed folder: D:\\Dateset\\MoCA-Mask\\MoCA_Video\\TrainDataset_per_sq\\scorpionfish_2\\Eventflow\\positive\n",
      "Removed folder: D:\\Dateset\\MoCA-Mask\\MoCA_Video\\TrainDataset_per_sq\\scorpionfish_2\\Eventflow\\positive_new\n",
      "Removed folder: D:\\Dateset\\MoCA-Mask\\MoCA_Video\\TrainDataset_per_sq\\scorpionfish_2\\Eventflow\\red_blue_visualization\n"
     ]
    },
    {
     "name": "stderr",
     "output_type": "stream",
     "text": [
      " 77%|███████▋  | 55/71 [00:02<00:00, 22.13it/s]"
     ]
    },
    {
     "name": "stdout",
     "output_type": "stream",
     "text": [
      "Removed folder: D:\\Dateset\\MoCA-Mask\\MoCA_Video\\TrainDataset_per_sq\\scorpionfish_4\\Eventflow\\negative\n",
      "Removed folder: D:\\Dateset\\MoCA-Mask\\MoCA_Video\\TrainDataset_per_sq\\scorpionfish_4\\Eventflow\\negative_new\n",
      "Removed folder: D:\\Dateset\\MoCA-Mask\\MoCA_Video\\TrainDataset_per_sq\\scorpionfish_4\\Eventflow\\positive\n",
      "Removed folder: D:\\Dateset\\MoCA-Mask\\MoCA_Video\\TrainDataset_per_sq\\scorpionfish_4\\Eventflow\\positive_new\n",
      "Removed folder: D:\\Dateset\\MoCA-Mask\\MoCA_Video\\TrainDataset_per_sq\\scorpionfish_4\\Eventflow\\red_blue_visualization\n",
      "Removed folder: D:\\Dateset\\MoCA-Mask\\MoCA_Video\\TrainDataset_per_sq\\scorpionfish_5\\Eventflow\\negative\n",
      "Removed folder: D:\\Dateset\\MoCA-Mask\\MoCA_Video\\TrainDataset_per_sq\\scorpionfish_5\\Eventflow\\negative_new\n",
      "Removed folder: D:\\Dateset\\MoCA-Mask\\MoCA_Video\\TrainDataset_per_sq\\scorpionfish_5\\Eventflow\\positive\n",
      "Removed folder: D:\\Dateset\\MoCA-Mask\\MoCA_Video\\TrainDataset_per_sq\\scorpionfish_5\\Eventflow\\positive_new\n",
      "Removed folder: D:\\Dateset\\MoCA-Mask\\MoCA_Video\\TrainDataset_per_sq\\scorpionfish_5\\Eventflow\\red_blue_visualization\n",
      "Removed folder: D:\\Dateset\\MoCA-Mask\\MoCA_Video\\TrainDataset_per_sq\\seal\\Eventflow\\negative\n",
      "Removed folder: D:\\Dateset\\MoCA-Mask\\MoCA_Video\\TrainDataset_per_sq\\seal\\Eventflow\\negative_new\n",
      "Removed folder: D:\\Dateset\\MoCA-Mask\\MoCA_Video\\TrainDataset_per_sq\\seal\\Eventflow\\positive\n",
      "Removed folder: D:\\Dateset\\MoCA-Mask\\MoCA_Video\\TrainDataset_per_sq\\seal\\Eventflow\\positive_new\n",
      "Removed folder: D:\\Dateset\\MoCA-Mask\\MoCA_Video\\TrainDataset_per_sq\\seal\\Eventflow\\red_blue_visualization\n",
      "Removed folder: D:\\Dateset\\MoCA-Mask\\MoCA_Video\\TrainDataset_per_sq\\shrimp\\Eventflow\\negative\n",
      "Removed folder: D:\\Dateset\\MoCA-Mask\\MoCA_Video\\TrainDataset_per_sq\\shrimp\\Eventflow\\negative_new\n",
      "Removed folder: D:\\Dateset\\MoCA-Mask\\MoCA_Video\\TrainDataset_per_sq\\shrimp\\Eventflow\\positive\n",
      "Removed folder: D:\\Dateset\\MoCA-Mask\\MoCA_Video\\TrainDataset_per_sq\\shrimp\\Eventflow\\positive_new\n",
      "Removed folder: D:\\Dateset\\MoCA-Mask\\MoCA_Video\\TrainDataset_per_sq\\shrimp\\Eventflow\\red_blue_visualization\n",
      "Removed folder: D:\\Dateset\\MoCA-Mask\\MoCA_Video\\TrainDataset_per_sq\\smallfish\\Eventflow\\negative\n",
      "Removed folder: D:\\Dateset\\MoCA-Mask\\MoCA_Video\\TrainDataset_per_sq\\smallfish\\Eventflow\\negative_new\n",
      "Removed folder: D:\\Dateset\\MoCA-Mask\\MoCA_Video\\TrainDataset_per_sq\\smallfish\\Eventflow\\positive\n",
      "Removed folder: D:\\Dateset\\MoCA-Mask\\MoCA_Video\\TrainDataset_per_sq\\smallfish\\Eventflow\\positive_new\n",
      "Removed folder: D:\\Dateset\\MoCA-Mask\\MoCA_Video\\TrainDataset_per_sq\\smallfish\\Eventflow\\red_blue_visualization\n",
      "Removed folder: D:\\Dateset\\MoCA-Mask\\MoCA_Video\\TrainDataset_per_sq\\snow_leopard_4.1\\Eventflow\\negative\n"
     ]
    },
    {
     "name": "stderr",
     "output_type": "stream",
     "text": [
      " 82%|████████▏ | 58/71 [00:03<00:00, 18.13it/s]"
     ]
    },
    {
     "name": "stdout",
     "output_type": "stream",
     "text": [
      "Removed folder: D:\\Dateset\\MoCA-Mask\\MoCA_Video\\TrainDataset_per_sq\\snow_leopard_4.1\\Eventflow\\negative_new\n",
      "Removed folder: D:\\Dateset\\MoCA-Mask\\MoCA_Video\\TrainDataset_per_sq\\snow_leopard_4.1\\Eventflow\\positive\n",
      "Removed folder: D:\\Dateset\\MoCA-Mask\\MoCA_Video\\TrainDataset_per_sq\\snow_leopard_4.1\\Eventflow\\positive_new\n",
      "Removed folder: D:\\Dateset\\MoCA-Mask\\MoCA_Video\\TrainDataset_per_sq\\snow_leopard_4.1\\Eventflow\\red_blue_visualization\n",
      "Removed folder: D:\\Dateset\\MoCA-Mask\\MoCA_Video\\TrainDataset_per_sq\\snow_leopard_4.2\\Eventflow\\negative\n",
      "Removed folder: D:\\Dateset\\MoCA-Mask\\MoCA_Video\\TrainDataset_per_sq\\snow_leopard_4.2\\Eventflow\\negative_new\n",
      "Removed folder: D:\\Dateset\\MoCA-Mask\\MoCA_Video\\TrainDataset_per_sq\\snow_leopard_4.2\\Eventflow\\positive\n",
      "Removed folder: D:\\Dateset\\MoCA-Mask\\MoCA_Video\\TrainDataset_per_sq\\snow_leopard_4.2\\Eventflow\\positive_new\n"
     ]
    },
    {
     "name": "stderr",
     "output_type": "stream",
     "text": [
      " 86%|████████▌ | 61/71 [00:03<00:00, 17.14it/s]"
     ]
    },
    {
     "name": "stdout",
     "output_type": "stream",
     "text": [
      "Removed folder: D:\\Dateset\\MoCA-Mask\\MoCA_Video\\TrainDataset_per_sq\\snow_leopard_4.2\\Eventflow\\red_blue_visualization\n",
      "Removed folder: D:\\Dateset\\MoCA-Mask\\MoCA_Video\\TrainDataset_per_sq\\snow_leopard_5.1\\Eventflow\\negative\n",
      "Removed folder: D:\\Dateset\\MoCA-Mask\\MoCA_Video\\TrainDataset_per_sq\\snow_leopard_5.1\\Eventflow\\negative_new\n",
      "Removed folder: D:\\Dateset\\MoCA-Mask\\MoCA_Video\\TrainDataset_per_sq\\snow_leopard_5.1\\Eventflow\\positive\n",
      "Removed folder: D:\\Dateset\\MoCA-Mask\\MoCA_Video\\TrainDataset_per_sq\\snow_leopard_5.1\\Eventflow\\positive_new\n",
      "Removed folder: D:\\Dateset\\MoCA-Mask\\MoCA_Video\\TrainDataset_per_sq\\snow_leopard_5.1\\Eventflow\\red_blue_visualization\n",
      "Removed folder: D:\\Dateset\\MoCA-Mask\\MoCA_Video\\TrainDataset_per_sq\\snow_leopard_5.2\\Eventflow\\negative\n",
      "Removed folder: D:\\Dateset\\MoCA-Mask\\MoCA_Video\\TrainDataset_per_sq\\snow_leopard_5.2\\Eventflow\\negative_new\n",
      "Removed folder: D:\\Dateset\\MoCA-Mask\\MoCA_Video\\TrainDataset_per_sq\\snow_leopard_5.2\\Eventflow\\positive\n",
      "Removed folder: D:\\Dateset\\MoCA-Mask\\MoCA_Video\\TrainDataset_per_sq\\snow_leopard_5.2\\Eventflow\\positive_new\n",
      "Removed folder: D:\\Dateset\\MoCA-Mask\\MoCA_Video\\TrainDataset_per_sq\\snow_leopard_5.2\\Eventflow\\red_blue_visualization\n",
      "Removed folder: D:\\Dateset\\MoCA-Mask\\MoCA_Video\\TrainDataset_per_sq\\snow_leopard_5.3\\Eventflow\\negative\n",
      "Removed folder: D:\\Dateset\\MoCA-Mask\\MoCA_Video\\TrainDataset_per_sq\\snow_leopard_5.3\\Eventflow\\negative_new\n",
      "Removed folder: D:\\Dateset\\MoCA-Mask\\MoCA_Video\\TrainDataset_per_sq\\snow_leopard_5.3\\Eventflow\\positive\n",
      "Removed folder: D:\\Dateset\\MoCA-Mask\\MoCA_Video\\TrainDataset_per_sq\\snow_leopard_5.3\\Eventflow\\positive_new\n",
      "Removed folder: D:\\Dateset\\MoCA-Mask\\MoCA_Video\\TrainDataset_per_sq\\snow_leopard_5.3\\Eventflow\\red_blue_visualization\n",
      "Removed folder: D:\\Dateset\\MoCA-Mask\\MoCA_Video\\TrainDataset_per_sq\\snow_leopard_7\\Eventflow\\negative\n",
      "Removed folder: D:\\Dateset\\MoCA-Mask\\MoCA_Video\\TrainDataset_per_sq\\snow_leopard_7\\Eventflow\\negative_new\n",
      "Removed folder: D:\\Dateset\\MoCA-Mask\\MoCA_Video\\TrainDataset_per_sq\\snow_leopard_7\\Eventflow\\positive\n",
      "Removed folder: D:\\Dateset\\MoCA-Mask\\MoCA_Video\\TrainDataset_per_sq\\snow_leopard_7\\Eventflow\\positive_new\n",
      "Removed folder: D:\\Dateset\\MoCA-Mask\\MoCA_Video\\TrainDataset_per_sq\\snow_leopard_7\\Eventflow\\red_blue_visualization\n",
      "Removed folder: D:\\Dateset\\MoCA-Mask\\MoCA_Video\\TrainDataset_per_sq\\snow_leopard_8\\Eventflow\\negative\n",
      "Removed folder: D:\\Dateset\\MoCA-Mask\\MoCA_Video\\TrainDataset_per_sq\\snow_leopard_8\\Eventflow\\negative_new\n",
      "Removed folder: D:\\Dateset\\MoCA-Mask\\MoCA_Video\\TrainDataset_per_sq\\snow_leopard_8\\Eventflow\\positive\n"
     ]
    },
    {
     "name": "stderr",
     "output_type": "stream",
     "text": [
      " 93%|█████████▎| 66/71 [00:03<00:00, 16.33it/s]"
     ]
    },
    {
     "name": "stdout",
     "output_type": "stream",
     "text": [
      "Removed folder: D:\\Dateset\\MoCA-Mask\\MoCA_Video\\TrainDataset_per_sq\\snow_leopard_8\\Eventflow\\positive_new\n",
      "Removed folder: D:\\Dateset\\MoCA-Mask\\MoCA_Video\\TrainDataset_per_sq\\snow_leopard_8\\Eventflow\\red_blue_visualization\n",
      "Removed folder: D:\\Dateset\\MoCA-Mask\\MoCA_Video\\TrainDataset_per_sq\\sole\\Eventflow\\negative\n",
      "Removed folder: D:\\Dateset\\MoCA-Mask\\MoCA_Video\\TrainDataset_per_sq\\sole\\Eventflow\\negative_new\n",
      "Removed folder: D:\\Dateset\\MoCA-Mask\\MoCA_Video\\TrainDataset_per_sq\\sole\\Eventflow\\positive\n",
      "Removed folder: D:\\Dateset\\MoCA-Mask\\MoCA_Video\\TrainDataset_per_sq\\sole\\Eventflow\\positive_new\n",
      "Removed folder: D:\\Dateset\\MoCA-Mask\\MoCA_Video\\TrainDataset_per_sq\\sole\\Eventflow\\red_blue_visualization\n",
      "Removed folder: D:\\Dateset\\MoCA-Mask\\MoCA_Video\\TrainDataset_per_sq\\spider_tailed_horned_viper_1\\Eventflow\\negative\n",
      "Removed folder: D:\\Dateset\\MoCA-Mask\\MoCA_Video\\TrainDataset_per_sq\\spider_tailed_horned_viper_1\\Eventflow\\negative_new\n",
      "Removed folder: D:\\Dateset\\MoCA-Mask\\MoCA_Video\\TrainDataset_per_sq\\spider_tailed_horned_viper_1\\Eventflow\\positive\n",
      "Removed folder: D:\\Dateset\\MoCA-Mask\\MoCA_Video\\TrainDataset_per_sq\\spider_tailed_horned_viper_1\\Eventflow\\positive_new\n",
      "Removed folder: D:\\Dateset\\MoCA-Mask\\MoCA_Video\\TrainDataset_per_sq\\spider_tailed_horned_viper_1\\Eventflow\\red_blue_visualization\n",
      "Removed folder: D:\\Dateset\\MoCA-Mask\\MoCA_Video\\TrainDataset_per_sq\\spider_tailed_horned_viper_2\\Eventflow\\negative\n",
      "Removed folder: D:\\Dateset\\MoCA-Mask\\MoCA_Video\\TrainDataset_per_sq\\spider_tailed_horned_viper_2\\Eventflow\\negative_new\n",
      "Removed folder: D:\\Dateset\\MoCA-Mask\\MoCA_Video\\TrainDataset_per_sq\\spider_tailed_horned_viper_2\\Eventflow\\positive\n",
      "Removed folder: D:\\Dateset\\MoCA-Mask\\MoCA_Video\\TrainDataset_per_sq\\spider_tailed_horned_viper_2\\Eventflow\\positive_new\n",
      "Removed folder: D:\\Dateset\\MoCA-Mask\\MoCA_Video\\TrainDataset_per_sq\\spider_tailed_horned_viper_2\\Eventflow\\red_blue_visualization\n",
      "Removed folder: D:\\Dateset\\MoCA-Mask\\MoCA_Video\\TrainDataset_per_sq\\spider_tailed_horned_viper_3\\Eventflow\\negative\n",
      "Removed folder: D:\\Dateset\\MoCA-Mask\\MoCA_Video\\TrainDataset_per_sq\\spider_tailed_horned_viper_3\\Eventflow\\negative_new\n",
      "Removed folder: D:\\Dateset\\MoCA-Mask\\MoCA_Video\\TrainDataset_per_sq\\spider_tailed_horned_viper_3\\Eventflow\\positive\n",
      "Removed folder: D:\\Dateset\\MoCA-Mask\\MoCA_Video\\TrainDataset_per_sq\\spider_tailed_horned_viper_3\\Eventflow\\positive_new\n",
      "Removed folder: D:\\Dateset\\MoCA-Mask\\MoCA_Video\\TrainDataset_per_sq\\spider_tailed_horned_viper_3\\Eventflow\\red_blue_visualization\n",
      "Removed folder: D:\\Dateset\\MoCA-Mask\\MoCA_Video\\TrainDataset_per_sq\\stick_insect_0\\Eventflow\\negative\n",
      "Removed folder: D:\\Dateset\\MoCA-Mask\\MoCA_Video\\TrainDataset_per_sq\\stick_insect_0\\Eventflow\\negative_new\n",
      "Removed folder: D:\\Dateset\\MoCA-Mask\\MoCA_Video\\TrainDataset_per_sq\\stick_insect_0\\Eventflow\\positive\n",
      "Removed folder: D:\\Dateset\\MoCA-Mask\\MoCA_Video\\TrainDataset_per_sq\\stick_insect_0\\Eventflow\\positive_new\n",
      "Removed folder: D:\\Dateset\\MoCA-Mask\\MoCA_Video\\TrainDataset_per_sq\\stick_insect_0\\Eventflow\\red_blue_visualization\n",
      "Removed folder: D:\\Dateset\\MoCA-Mask\\MoCA_Video\\TrainDataset_per_sq\\turtle\\Eventflow\\negative\n",
      "Removed folder: D:\\Dateset\\MoCA-Mask\\MoCA_Video\\TrainDataset_per_sq\\turtle\\Eventflow\\negative_new\n",
      "Removed folder: D:\\Dateset\\MoCA-Mask\\MoCA_Video\\TrainDataset_per_sq\\turtle\\Eventflow\\positive\n"
     ]
    },
    {
     "name": "stderr",
     "output_type": "stream",
     "text": [
      "100%|██████████| 71/71 [00:03<00:00, 18.05it/s]"
     ]
    },
    {
     "name": "stdout",
     "output_type": "stream",
     "text": [
      "Removed folder: D:\\Dateset\\MoCA-Mask\\MoCA_Video\\TrainDataset_per_sq\\turtle\\Eventflow\\positive_new\n",
      "Removed folder: D:\\Dateset\\MoCA-Mask\\MoCA_Video\\TrainDataset_per_sq\\turtle\\Eventflow\\red_blue_visualization\n",
      "Removed folder: D:\\Dateset\\MoCA-Mask\\MoCA_Video\\TrainDataset_per_sq\\wolf\\Eventflow\\negative\n",
      "Removed folder: D:\\Dateset\\MoCA-Mask\\MoCA_Video\\TrainDataset_per_sq\\wolf\\Eventflow\\negative_new\n",
      "Removed folder: D:\\Dateset\\MoCA-Mask\\MoCA_Video\\TrainDataset_per_sq\\wolf\\Eventflow\\positive\n",
      "Removed folder: D:\\Dateset\\MoCA-Mask\\MoCA_Video\\TrainDataset_per_sq\\wolf\\Eventflow\\positive_new\n",
      "Removed folder: D:\\Dateset\\MoCA-Mask\\MoCA_Video\\TrainDataset_per_sq\\wolf\\Eventflow\\red_blue_visualization\n"
     ]
    },
    {
     "name": "stderr",
     "output_type": "stream",
     "text": [
      "\n"
     ]
    }
   ],
   "source": [
    "import os\n",
    "import shutil\n",
    "from tqdm import tqdm\n",
    "\n",
    "directory = 'D:\\Dateset\\MoCA-Mask\\MoCA_Video\\TrainDataset_per_sq'\n",
    "# Or use the other directory if needed:\n",
    "# directory = 'D:\\\\Dateset\\\\MoCA-Mask\\\\MoCA_Video\\\\TrainDataset_per_sq'\n",
    "\n",
    "# List of folder names to remove\n",
    "folders_to_remove = ['negative', 'negative_new', 'positive', 'positive_new', 'red_blue_visualization']\n",
    "\n",
    "# List all subdirectories in the specified directory\n",
    "moca_list = os.listdir(directory)\n",
    "\n",
    "print(f\"Found {len(moca_list)} subdirectories\")\n",
    "\n",
    "# Iterate through each subdirectory\n",
    "for curr_dir in tqdm(moca_list):\n",
    "    pth = os.path.join(directory, curr_dir, 'Eventflow')\n",
    "    \n",
    "    # Iterate over folders to remove\n",
    "    for folder_name in folders_to_remove:\n",
    "        folder_path = os.path.join(pth, folder_name)\n",
    "        \n",
    "        # Check if the folder exists and remove it\n",
    "        if os.path.isdir(folder_path):\n",
    "            shutil.rmtree(folder_path)\n",
    "            print(f\"Removed folder: {folder_path}\")"
   ]
  },
  {
   "cell_type": "code",
   "execution_count": null,
   "metadata": {},
   "outputs": [
    {
     "ename": "FileNotFoundError",
     "evalue": "[WinError 3] The system cannot find the path specified: 'D:\\\\Dateset\\\\MoCA-Mask-Pseudo\\\\MoCA-Video-Test\\\\snow_leopard_4.2\\\\GT'",
     "output_type": "error",
     "traceback": [
      "\u001b[1;31m---------------------------------------------------------------------------\u001b[0m",
      "\u001b[1;31mFileNotFoundError\u001b[0m                         Traceback (most recent call last)",
      "Cell \u001b[1;32mIn[30], line 23\u001b[0m\n\u001b[0;32m     21\u001b[0m \u001b[38;5;66;03m# Rename files in GT folder to start from 00000.png\u001b[39;00m\n\u001b[0;32m     22\u001b[0m gt_folder \u001b[38;5;241m=\u001b[39m os\u001b[38;5;241m.\u001b[39mpath\u001b[38;5;241m.\u001b[39mjoin(main_dir, \u001b[38;5;124m\"\u001b[39m\u001b[38;5;124mGT\u001b[39m\u001b[38;5;124m\"\u001b[39m)\n\u001b[1;32m---> 23\u001b[0m \u001b[43mrename_files_in_folder\u001b[49m\u001b[43m(\u001b[49m\u001b[43mgt_folder\u001b[49m\u001b[43m,\u001b[49m\u001b[43m \u001b[49m\u001b[43mstart_num\u001b[49m\u001b[38;5;241;43m=\u001b[39;49m\u001b[38;5;241;43m0\u001b[39;49m\u001b[43m,\u001b[49m\u001b[43m \u001b[49m\u001b[43mextension\u001b[49m\u001b[38;5;241;43m=\u001b[39;49m\u001b[38;5;124;43m\"\u001b[39;49m\u001b[38;5;124;43m.png\u001b[39;49m\u001b[38;5;124;43m\"\u001b[39;49m\u001b[43m)\u001b[49m\n\u001b[0;32m     25\u001b[0m \u001b[38;5;66;03m# Rename files in Frame folder to start from 00000.jpg\u001b[39;00m\n\u001b[0;32m     26\u001b[0m frame_folder \u001b[38;5;241m=\u001b[39m os\u001b[38;5;241m.\u001b[39mpath\u001b[38;5;241m.\u001b[39mjoin(main_dir, \u001b[38;5;124m\"\u001b[39m\u001b[38;5;124mFrame\u001b[39m\u001b[38;5;124m\"\u001b[39m)\n",
      "Cell \u001b[1;32mIn[30], line 8\u001b[0m, in \u001b[0;36mrename_files_in_folder\u001b[1;34m(folder_path, start_num, extension)\u001b[0m\n\u001b[0;32m      4\u001b[0m \u001b[38;5;250m\u001b[39m\u001b[38;5;124;03m\"\"\"\u001b[39;00m\n\u001b[0;32m      5\u001b[0m \u001b[38;5;124;03mRename files in the given folder to start from a specified number with zero padding.\u001b[39;00m\n\u001b[0;32m      6\u001b[0m \u001b[38;5;124;03m\"\"\"\u001b[39;00m\n\u001b[0;32m      7\u001b[0m \u001b[38;5;66;03m# Get all files in the folder sorted by their current name\u001b[39;00m\n\u001b[1;32m----> 8\u001b[0m files \u001b[38;5;241m=\u001b[39m \u001b[38;5;28msorted\u001b[39m([f \u001b[38;5;28;01mfor\u001b[39;00m f \u001b[38;5;129;01min\u001b[39;00m \u001b[43mos\u001b[49m\u001b[38;5;241;43m.\u001b[39;49m\u001b[43mlistdir\u001b[49m\u001b[43m(\u001b[49m\u001b[43mfolder_path\u001b[49m\u001b[43m)\u001b[49m \u001b[38;5;28;01mif\u001b[39;00m f\u001b[38;5;241m.\u001b[39mendswith(extension)])\n\u001b[0;32m     10\u001b[0m \u001b[38;5;66;03m# Rename each file\u001b[39;00m\n\u001b[0;32m     11\u001b[0m \u001b[38;5;28;01mfor\u001b[39;00m i, filename \u001b[38;5;129;01min\u001b[39;00m \u001b[38;5;28menumerate\u001b[39m(files):\n",
      "\u001b[1;31mFileNotFoundError\u001b[0m: [WinError 3] The system cannot find the path specified: 'D:\\\\Dateset\\\\MoCA-Mask-Pseudo\\\\MoCA-Video-Test\\\\snow_leopard_4.2\\\\GT'"
     ]
    }
   ],
   "source": [
    "import os\n",
    "\n",
    "def rename_files_in_folder(folder_path, start_num=0, extension=\".png\"):\n",
    "    \"\"\"\n",
    "    Rename files in the given folder to start from a specified number with zero padding.\n",
    "    \"\"\"\n",
    "    # Get all files in the folder sorted by their current name\n",
    "    files = sorted([f for f in os.listdir(folder_path) if f.endswith(extension)])\n",
    "    \n",
    "    # Rename each file\n",
    "    for i, filename in enumerate(files):\n",
    "        new_name = f\"{start_num + i:05d}{extension}\"\n",
    "        old_path = os.path.join(folder_path, filename)\n",
    "        new_path = os.path.join(folder_path, new_name)\n",
    "        os.rename(old_path, new_path)\n",
    "        print(f\"Renamed {old_path} to {new_path}\")\n",
    "\n",
    "# Define main directory\n",
    "main_dir = \"D:\\Dateset\\MoCA-Mask-Pseudo\\MoCA-Video-Train/snow_leopard_4.2\"\n",
    "\n",
    "# Rename files in GT folder to start from 00000.png\n",
    "gt_folder = os.path.join(main_dir, \"GT\")\n",
    "rename_files_in_folder(gt_folder, start_num=0, extension=\".png\")\n",
    "\n",
    "# Rename files in Frame folder to start from 00000.jpg\n",
    "frame_folder = os.path.join(main_dir, \"Frame\")\n",
    "rename_files_in_folder(frame_folder, start_num=0, extension=\".jpg\")\n",
    "\n",
    "# Rename files in Eventflow/red_blue_visualization folder to start from 00000.jpg\n",
    "red_blue_vis_folder = os.path.join(main_dir, \"Eventflow/red_blue_visualization_new\")\n",
    "rename_files_in_folder(red_blue_vis_folder, start_num=0, extension=\".jpg\")"
   ]
  }
 ],
 "metadata": {
  "kernelspec": {
   "display_name": "dbs",
   "language": "python",
   "name": "python3"
  },
  "language_info": {
   "codemirror_mode": {
    "name": "ipython",
    "version": 3
   },
   "file_extension": ".py",
   "mimetype": "text/x-python",
   "name": "python",
   "nbconvert_exporter": "python",
   "pygments_lexer": "ipython3",
   "version": "3.8.18"
  }
 },
 "nbformat": 4,
 "nbformat_minor": 2
}
