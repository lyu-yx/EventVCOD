{
 "cells": [
  {
   "cell_type": "code",
   "execution_count": 2,
   "metadata": {},
   "outputs": [],
   "source": [
    "import cv2\n",
    "import numpy as np\n",
    "import os\n",
    "from glob import glob\n",
    "from tqdm import tqdm\n",
    "import matplotlib.pyplot as plt"
   ]
  },
  {
   "cell_type": "code",
   "execution_count": 3,
   "metadata": {},
   "outputs": [
    {
     "name": "stderr",
     "output_type": "stream",
     "text": [
      "100%|██████████| 9/9 [00:00<00:00, 4500.86it/s]\n"
     ]
    }
   ],
   "source": [
    "# directory = 'D:\\Dateset\\MoCA-Mask-Pseudo\\MoCA-Video-Train'\n",
    "directory = 'D:\\Dateset\\CAD2016'\n",
    "moca_list = os.listdir(directory)\n",
    "for curr_dir in tqdm(moca_list):\n",
    "    os.makedirs(os.path.join(directory, curr_dir, 'Eventflow'), exist_ok=True)\n",
    "    pos_directory = os.path.join(directory, curr_dir, 'positive')\n",
    "    neg_directory = os.path.join(directory, curr_dir, 'negative')\n"
   ]
  },
  {
   "cell_type": "code",
   "execution_count": null,
   "metadata": {},
   "outputs": [
    {
     "name": "stderr",
     "output_type": "stream",
     "text": [
      "  0%|          | 0/9 [00:00<?, ?it/s]\n"
     ]
    },
    {
     "ename": "IndexError",
     "evalue": "list index out of range",
     "output_type": "error",
     "traceback": [
      "\u001b[1;31m---------------------------------------------------------------------------\u001b[0m",
      "\u001b[1;31mIndexError\u001b[0m                                Traceback (most recent call last)",
      "Cell \u001b[1;32mIn[4], line 10\u001b[0m\n\u001b[0;32m      7\u001b[0m visualization_directory \u001b[38;5;241m=\u001b[39m os\u001b[38;5;241m.\u001b[39mpath\u001b[38;5;241m.\u001b[39mjoin(directory, curr_dir, \u001b[38;5;124m'\u001b[39m\u001b[38;5;124mEventflow\u001b[39m\u001b[38;5;124m'\u001b[39m, \u001b[38;5;124m'\u001b[39m\u001b[38;5;124mred_blue_visualization\u001b[39m\u001b[38;5;124m'\u001b[39m)\n\u001b[0;32m      8\u001b[0m \u001b[38;5;66;03m# save a all black image named 00000.jpg in visualization_directory, size is the same with 000001.jpg in that directory\u001b[39;00m\n\u001b[1;32m---> 10\u001b[0m img \u001b[38;5;241m=\u001b[39m cv2\u001b[38;5;241m.\u001b[39mimread(os\u001b[38;5;241m.\u001b[39mpath\u001b[38;5;241m.\u001b[39mjoin(pos_directory, \u001b[43mpos_images\u001b[49m\u001b[43m[\u001b[49m\u001b[38;5;241;43m0\u001b[39;49m\u001b[43m]\u001b[49m))\n\u001b[0;32m     11\u001b[0m img \u001b[38;5;241m=\u001b[39m np\u001b[38;5;241m.\u001b[39mzeros_like(img)\n\u001b[0;32m     12\u001b[0m cv2\u001b[38;5;241m.\u001b[39mimwrite(os\u001b[38;5;241m.\u001b[39mpath\u001b[38;5;241m.\u001b[39mjoin(visualization_directory, \u001b[38;5;124m'\u001b[39m\u001b[38;5;124m00000.jpg\u001b[39m\u001b[38;5;124m'\u001b[39m), img)\n",
      "\u001b[1;31mIndexError\u001b[0m: list index out of range"
     ]
    }
   ],
   "source": [
    "for curr_dir in tqdm(moca_list):\n",
    "    os.makedirs(os.path.join(directory, curr_dir, 'Eventflow'), exist_ok=True)\n",
    "\n",
    "    pos_directory = os.path.join(directory, curr_dir, 'Eventflow', 'positive')\n",
    "    pos_images = [f for f in os.listdir(pos_directory) if f.endswith('.png')]\n",
    "\n",
    "    visualization_directory = os.path.join(directory, curr_dir, 'Eventflow', 'red_blue_visualization')\n",
    "    # save a all black image named 00000.jpg in visualization_directory, size is the same with 000001.jpg in that directory\n",
    "    \n",
    "    img = cv2.imread(os.path.join(pos_directory, pos_images[0]))\n",
    "    img = np.zeros_like(img)\n",
    "    cv2.imwrite(os.path.join(visualization_directory, pos_images[0][:-5]+'1.png'), img)\n"
   ]
  },
  {
   "cell_type": "code",
   "execution_count": 21,
   "metadata": {},
   "outputs": [
    {
     "name": "stderr",
     "output_type": "stream",
     "text": [
      "100%|██████████| 71/71 [00:00<00:00, 5447.95it/s]\n"
     ]
    }
   ],
   "source": [
    "import os\n",
    "import glob\n",
    "from tqdm import tqdm\n",
    "\n",
    "for curr_dir in tqdm(moca_list):\n",
    "    # Create the path to the files\n",
    "    rm_dir = os.path.join(directory, curr_dir, 'Eventflow', '*.jpg')\n",
    "    # Get all the jpg files matching the pattern\n",
    "    jpg_files = glob.glob(rm_dir)\n",
    "    # Remove each file\n",
    "    for file in jpg_files:\n",
    "        os.remove(file)"
   ]
  },
  {
   "cell_type": "code",
   "execution_count": 7,
   "metadata": {},
   "outputs": [
    {
     "name": "stderr",
     "output_type": "stream",
     "text": [
      "100%|██████████| 9/9 [00:14<00:00,  1.59s/it]\n"
     ]
    }
   ],
   "source": [
    "for curr_dir in tqdm(moca_list):\n",
    "    os.makedirs(os.path.join(directory, curr_dir, 'Eventflow'), exist_ok=True)\n",
    "    pos_directory = os.path.join(directory, curr_dir, 'Eventflow', 'positive')\n",
    "    neg_directory = os.path.join(directory, curr_dir, 'Eventflow', 'negative')\n",
    "    \n",
    "    pos_images = [f for f in os.listdir(pos_directory) if f.endswith('.png')]\n",
    "    neg_images = [f for f in os.listdir(neg_directory) if f.endswith('.png')]\n",
    "    \n",
    "    visualization_directory = os.path.join(directory, curr_dir, 'Eventflow', 'red_blue_visualization')\n",
    "    os.makedirs(visualization_directory, exist_ok=True)\n",
    "\n",
    "    for pos_image_name, neg_image_name in zip(pos_images, neg_images):\n",
    "        pos_image_path = os.path.join(pos_directory, pos_image_name)\n",
    "        neg_image_path = os.path.join(neg_directory, neg_image_name)\n",
    "        \n",
    "        # Read images\n",
    "        pos_image = cv2.imread(pos_image_path, cv2.IMREAD_GRAYSCALE)\n",
    "        neg_image = cv2.imread(neg_image_path, cv2.IMREAD_GRAYSCALE)\n",
    "        \n",
    "        # Ensure both images are of the same size\n",
    "        if pos_image.shape != neg_image.shape:\n",
    "            raise ValueError(\"The positive and negative images must be of the same size\")\n",
    "        \n",
    "        # Create an empty RGB image\n",
    "        combined_image = np.zeros((pos_image.shape[0], pos_image.shape[1], 3), dtype=np.uint8)\n",
    "        \n",
    "        # Assign the positive image to the red channel\n",
    "        combined_image[:, :, 2] = pos_image\n",
    "        \n",
    "        # Assign the negative image to the blue channel\n",
    "        combined_image[:, :, 0] = neg_image\n",
    "        \n",
    "        # Save the combined image\n",
    "        combined_image_path = os.path.join(visualization_directory, f'{pos_image_name}')\n",
    "        cv2.imwrite(combined_image_path, combined_image)"
   ]
  },
  {
   "cell_type": "code",
   "execution_count": 22,
   "metadata": {},
   "outputs": [
    {
     "name": "stderr",
     "output_type": "stream",
     "text": [
      "100%|██████████| 16/16 [00:00<00:00, 2640.11it/s]\n"
     ]
    }
   ],
   "source": [
    "# directory = 'D:\\Dateset\\MoCA-Mask-Pseudo\\MoCA-Video-Train'\n",
    "directory = 'D:\\Dateset\\MoCA-Mask\\MoCA_Video\\TestDataset_per_sq'\n",
    "moca_list = os.listdir(directory)\n",
    "for curr_dir in tqdm(moca_list):\n",
    "    os.makedirs(os.path.join(directory, curr_dir, 'Eventflow'), exist_ok=True)\n",
    "    pos_directory = os.path.join(directory, curr_dir, 'positive')\n",
    "    neg_directory = os.path.join(directory, curr_dir, 'negative')\n"
   ]
  },
  {
   "cell_type": "code",
   "execution_count": 5,
   "metadata": {},
   "outputs": [
    {
     "name": "stderr",
     "output_type": "stream",
     "text": [
      "100%|██████████| 16/16 [00:00<00:00, 41.37it/s]\n"
     ]
    }
   ],
   "source": [
    "for curr_dir in tqdm(moca_list):\n",
    "    os.makedirs(os.path.join(directory, curr_dir, 'Eventflow'), exist_ok=True)\n",
    "\n",
    "    pos_directory = os.path.join(directory, curr_dir, 'Eventflow', 'positive')\n",
    "    pos_images = [f for f in os.listdir(pos_directory) if f.endswith('.jpg')]\n",
    "\n",
    "    visualization_directory = os.path.join(directory, curr_dir, 'Eventflow', 'red_blue_visualization')\n",
    "    # save a all black image named 00000.jpg in visualization_directory, size is the same with 000001.jpg in that directory\n",
    "    \n",
    "    img = cv2.imread(os.path.join(pos_directory, pos_images[0]))\n",
    "    img = np.zeros_like(img)\n",
    "    cv2.imwrite(os.path.join(visualization_directory, '00000.jpg'), img)\n"
   ]
  },
  {
   "cell_type": "code",
   "execution_count": 23,
   "metadata": {},
   "outputs": [
    {
     "name": "stderr",
     "output_type": "stream",
     "text": [
      "100%|██████████| 16/16 [00:00<00:00, 120.08it/s]\n"
     ]
    }
   ],
   "source": [
    "import os\n",
    "import glob\n",
    "from tqdm import tqdm\n",
    "\n",
    "for curr_dir in tqdm(moca_list):\n",
    "    # Create the path to the files\n",
    "    rm_dir = os.path.join(directory, curr_dir, 'Eventflow', '*.jpg')\n",
    "    # Get all the jpg files matching the pattern\n",
    "    jpg_files = glob.glob(rm_dir)\n",
    "    # Remove each file\n",
    "    for file in jpg_files:\n",
    "        os.remove(file)"
   ]
  },
  {
   "cell_type": "code",
   "execution_count": 15,
   "metadata": {},
   "outputs": [
    {
     "name": "stderr",
     "output_type": "stream",
     "text": [
      "100%|██████████| 16/16 [00:12<00:00,  1.27it/s]\n"
     ]
    }
   ],
   "source": [
    "for curr_dir in tqdm(moca_list):\n",
    "    os.makedirs(os.path.join(directory, curr_dir, 'Eventflow'), exist_ok=True)\n",
    "    pos_directory = os.path.join(directory, curr_dir, 'Eventflow', 'positive')\n",
    "    neg_directory = os.path.join(directory, curr_dir, 'Eventflow', 'negative')\n",
    "    \n",
    "    pos_images = [f for f in os.listdir(pos_directory) if f.endswith('.jpg')]\n",
    "    neg_images = [f for f in os.listdir(neg_directory) if f.endswith('.jpg')]\n",
    "    \n",
    "    visualization_directory = os.path.join(directory, curr_dir, 'Eventflow', 'red_blue_visualization')\n",
    "    os.makedirs(visualization_directory, exist_ok=True)\n",
    "\n",
    "    for pos_image_name, neg_image_name in zip(pos_images, neg_images):\n",
    "        pos_image_path = os.path.join(pos_directory, pos_image_name)\n",
    "        neg_image_path = os.path.join(neg_directory, neg_image_name)\n",
    "        \n",
    "        # Read images\n",
    "        pos_image = cv2.imread(pos_image_path, cv2.IMREAD_GRAYSCALE)\n",
    "        neg_image = cv2.imread(neg_image_path, cv2.IMREAD_GRAYSCALE)\n",
    "        \n",
    "        # Ensure both images are of the same size\n",
    "        if pos_image.shape != neg_image.shape:\n",
    "            raise ValueError(\"The positive and negative images must be of the same size\")\n",
    "        \n",
    "        # Create an empty RGB image\n",
    "        combined_image = np.zeros((pos_image.shape[0], pos_image.shape[1], 3), dtype=np.uint8)\n",
    "        \n",
    "        # Assign the positive image to the red channel\n",
    "        combined_image[:, :, 2] = pos_image\n",
    "        \n",
    "        # Assign the negative image to the blue channel\n",
    "        combined_image[:, :, 0] = neg_image\n",
    "        \n",
    "        # Save the combined image\n",
    "        combined_image_path = os.path.join(visualization_directory, f'{pos_image_name}')\n",
    "        cv2.imwrite(combined_image_path, combined_image)"
   ]
  },
  {
   "cell_type": "code",
   "execution_count": 24,
   "metadata": {},
   "outputs": [
    {
     "name": "stderr",
     "output_type": "stream",
     "text": [
      "100%|██████████| 71/71 [00:00<00:00, 3623.17it/s]\n"
     ]
    }
   ],
   "source": [
    "# directory = 'D:\\Dateset\\MoCA-Mask-Pseudo\\MoCA-Video-Train'\n",
    "directory = 'D:\\Dateset\\MoCA-Mask-Pseudo\\MoCA-Video-Train'\n",
    "moca_list = os.listdir(directory)\n",
    "for curr_dir in tqdm(moca_list):\n",
    "    os.makedirs(os.path.join(directory, curr_dir, 'Eventflow'), exist_ok=True)\n",
    "    pos_directory = os.path.join(directory, curr_dir, 'positive')\n",
    "    neg_directory = os.path.join(directory, curr_dir, 'negative')\n"
   ]
  },
  {
   "cell_type": "code",
   "execution_count": 7,
   "metadata": {},
   "outputs": [
    {
     "name": "stderr",
     "output_type": "stream",
     "text": [
      "100%|██████████| 71/71 [00:01<00:00, 36.93it/s]\n"
     ]
    }
   ],
   "source": [
    "for curr_dir in tqdm(moca_list):\n",
    "    os.makedirs(os.path.join(directory, curr_dir, 'Eventflow'), exist_ok=True)\n",
    "\n",
    "    pos_directory = os.path.join(directory, curr_dir, 'Eventflow', 'positive')\n",
    "    pos_images = [f for f in os.listdir(pos_directory) if f.endswith('.jpg')]\n",
    "\n",
    "    visualization_directory = os.path.join(directory, curr_dir, 'Eventflow', 'red_blue_visualization')\n",
    "    # save a all black image named 00000.jpg in visualization_directory, size is the same with 000001.jpg in that directory\n",
    "    \n",
    "    img = cv2.imread(os.path.join(pos_directory, pos_images[0]))\n",
    "    img = np.zeros_like(img)\n",
    "    cv2.imwrite(os.path.join(visualization_directory, '00000.jpg'), img)\n"
   ]
  },
  {
   "cell_type": "code",
   "execution_count": 25,
   "metadata": {},
   "outputs": [
    {
     "name": "stderr",
     "output_type": "stream",
     "text": [
      "100%|██████████| 71/71 [00:03<00:00, 20.49it/s]\n"
     ]
    }
   ],
   "source": [
    "import os\n",
    "import glob\n",
    "from tqdm import tqdm\n",
    "\n",
    "for curr_dir in tqdm(moca_list):\n",
    "    # Create the path to the files\n",
    "    rm_dir = os.path.join(directory, curr_dir, 'Eventflow', '*.jpg')\n",
    "    # Get all the jpg files matching the pattern\n",
    "    jpg_files = glob.glob(rm_dir)\n",
    "    # Remove each file\n",
    "    for file in jpg_files:\n",
    "        os.remove(file)"
   ]
  },
  {
   "cell_type": "code",
   "execution_count": 17,
   "metadata": {},
   "outputs": [
    {
     "name": "stderr",
     "output_type": "stream",
     "text": [
      "100%|██████████| 71/71 [05:37<00:00,  4.75s/it]\n"
     ]
    }
   ],
   "source": [
    "for curr_dir in tqdm(moca_list):\n",
    "    os.makedirs(os.path.join(directory, curr_dir, 'Eventflow'), exist_ok=True)\n",
    "    pos_directory = os.path.join(directory, curr_dir, 'Eventflow', 'positive')\n",
    "    neg_directory = os.path.join(directory, curr_dir, 'Eventflow', 'negative')\n",
    "    \n",
    "    pos_images = [f for f in os.listdir(pos_directory) if f.endswith('.jpg')]\n",
    "    neg_images = [f for f in os.listdir(neg_directory) if f.endswith('.jpg')]\n",
    "    \n",
    "    visualization_directory = os.path.join(directory, curr_dir, 'Eventflow', 'red_blue_visualization')\n",
    "    os.makedirs(visualization_directory, exist_ok=True)\n",
    "\n",
    "    for pos_image_name, neg_image_name in zip(pos_images, neg_images):\n",
    "        pos_image_path = os.path.join(pos_directory, pos_image_name)\n",
    "        neg_image_path = os.path.join(neg_directory, neg_image_name)\n",
    "        \n",
    "        # Read images\n",
    "        pos_image = cv2.imread(pos_image_path, cv2.IMREAD_GRAYSCALE)\n",
    "        neg_image = cv2.imread(neg_image_path, cv2.IMREAD_GRAYSCALE)\n",
    "        \n",
    "        # Ensure both images are of the same size\n",
    "        if pos_image.shape != neg_image.shape:\n",
    "            raise ValueError(\"The positive and negative images must be of the same size\")\n",
    "        \n",
    "        # Create an empty RGB image\n",
    "        combined_image = np.zeros((pos_image.shape[0], pos_image.shape[1], 3), dtype=np.uint8)\n",
    "        \n",
    "        # Assign the positive image to the red channel\n",
    "        combined_image[:, :, 2] = pos_image\n",
    "        \n",
    "        # Assign the negative image to the blue channel\n",
    "        combined_image[:, :, 0] = neg_image\n",
    "        \n",
    "        # Save the combined image\n",
    "        combined_image_path = os.path.join(visualization_directory, f'{pos_image_name}')\n",
    "        cv2.imwrite(combined_image_path, combined_image)"
   ]
  },
  {
   "cell_type": "code",
   "execution_count": 26,
   "metadata": {},
   "outputs": [
    {
     "name": "stderr",
     "output_type": "stream",
     "text": [
      "100%|██████████| 16/16 [00:00<00:00, 2419.99it/s]\n"
     ]
    }
   ],
   "source": [
    "# directory = 'D:\\Dateset\\MoCA-Mask-Pseudo\\MoCA-Video-Train'\n",
    "directory = 'D:\\Dateset\\MoCA-Mask-Pseudo\\MoCA-Video-Test'\n",
    "moca_list = os.listdir(directory)\n",
    "for curr_dir in tqdm(moca_list):\n",
    "    os.makedirs(os.path.join(directory, curr_dir, 'Eventflow'), exist_ok=True)\n",
    "    pos_directory = os.path.join(directory, curr_dir, 'positive')\n",
    "    neg_directory = os.path.join(directory, curr_dir, 'negative')\n"
   ]
  },
  {
   "cell_type": "code",
   "execution_count": 9,
   "metadata": {},
   "outputs": [
    {
     "name": "stderr",
     "output_type": "stream",
     "text": [
      "100%|██████████| 16/16 [00:00<00:00, 41.65it/s]\n"
     ]
    }
   ],
   "source": [
    "for curr_dir in tqdm(moca_list):\n",
    "    os.makedirs(os.path.join(directory, curr_dir, 'Eventflow'), exist_ok=True)\n",
    "\n",
    "    pos_directory = os.path.join(directory, curr_dir, 'Eventflow', 'positive')\n",
    "    pos_images = [f for f in os.listdir(pos_directory) if f.endswith('.jpg')]\n",
    "\n",
    "    visualization_directory = os.path.join(directory, curr_dir, 'Eventflow', 'red_blue_visualization')\n",
    "    # save a all black image named 00000.jpg in visualization_directory, size is the same with 000001.jpg in that directory\n",
    "    \n",
    "    img = cv2.imread(os.path.join(pos_directory, pos_images[0]))\n",
    "    img = np.zeros_like(img)\n",
    "    cv2.imwrite(os.path.join(visualization_directory, '00000.jpg'), img)\n"
   ]
  },
  {
   "cell_type": "code",
   "execution_count": 27,
   "metadata": {},
   "outputs": [
    {
     "name": "stderr",
     "output_type": "stream",
     "text": [
      "100%|██████████| 16/16 [00:00<00:00, 26.28it/s]\n"
     ]
    }
   ],
   "source": [
    "import os\n",
    "import glob\n",
    "from tqdm import tqdm\n",
    "\n",
    "for curr_dir in tqdm(moca_list):\n",
    "    # Create the path to the files\n",
    "    rm_dir = os.path.join(directory, curr_dir, 'Eventflow', '*.jpg')\n",
    "    # Get all the jpg files matching the pattern\n",
    "    jpg_files = glob.glob(rm_dir)\n",
    "    # Remove each file\n",
    "    for file in jpg_files:\n",
    "        os.remove(file)"
   ]
  },
  {
   "cell_type": "code",
   "execution_count": 19,
   "metadata": {},
   "outputs": [
    {
     "name": "stderr",
     "output_type": "stream",
     "text": [
      "100%|██████████| 16/16 [00:54<00:00,  3.43s/it]\n"
     ]
    }
   ],
   "source": [
    "for curr_dir in tqdm(moca_list):\n",
    "    os.makedirs(os.path.join(directory, curr_dir, 'Eventflow'), exist_ok=True)\n",
    "    pos_directory = os.path.join(directory, curr_dir, 'Eventflow', 'positive')\n",
    "    neg_directory = os.path.join(directory, curr_dir, 'Eventflow', 'negative')\n",
    "    \n",
    "    pos_images = [f for f in os.listdir(pos_directory) if f.endswith('.jpg')]\n",
    "    neg_images = [f for f in os.listdir(neg_directory) if f.endswith('.jpg')]\n",
    "    \n",
    "    visualization_directory = os.path.join(directory, curr_dir, 'Eventflow', 'red_blue_visualization')\n",
    "    os.makedirs(visualization_directory, exist_ok=True)\n",
    "\n",
    "    for pos_image_name, neg_image_name in zip(pos_images, neg_images):\n",
    "        pos_image_path = os.path.join(pos_directory, pos_image_name)\n",
    "        neg_image_path = os.path.join(neg_directory, neg_image_name)\n",
    "        \n",
    "        # Read images\n",
    "        pos_image = cv2.imread(pos_image_path, cv2.IMREAD_GRAYSCALE)\n",
    "        neg_image = cv2.imread(neg_image_path, cv2.IMREAD_GRAYSCALE)\n",
    "        \n",
    "        # Ensure both images are of the same size\n",
    "        if pos_image.shape != neg_image.shape:\n",
    "            raise ValueError(\"The positive and negative images must be of the same size\")\n",
    "        \n",
    "        # Create an empty RGB image\n",
    "        combined_image = np.zeros((pos_image.shape[0], pos_image.shape[1], 3), dtype=np.uint8)\n",
    "        \n",
    "        # Assign the positive image to the red channel\n",
    "        combined_image[:, :, 2] = pos_image\n",
    "        \n",
    "        # Assign the negative image to the blue channel\n",
    "        combined_image[:, :, 0] = neg_image\n",
    "        \n",
    "        # Save the combined image\n",
    "        combined_image_path = os.path.join(visualization_directory, f'{pos_image_name}')\n",
    "        cv2.imwrite(combined_image_path, combined_image)"
   ]
  }
 ],
 "metadata": {
  "kernelspec": {
   "display_name": "dbs",
   "language": "python",
   "name": "python3"
  },
  "language_info": {
   "codemirror_mode": {
    "name": "ipython",
    "version": 3
   },
   "file_extension": ".py",
   "mimetype": "text/x-python",
   "name": "python",
   "nbconvert_exporter": "python",
   "pygments_lexer": "ipython3",
   "version": "3.8.18"
  }
 },
 "nbformat": 4,
 "nbformat_minor": 2
}
