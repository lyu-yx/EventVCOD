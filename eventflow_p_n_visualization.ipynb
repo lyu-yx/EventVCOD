{
 "cells": [
  {
   "cell_type": "code",
   "execution_count": 1,
   "metadata": {},
   "outputs": [],
   "source": [
    "import cv2\n",
    "import numpy as np\n",
    "import os\n",
    "from glob import glob\n",
    "from tqdm import tqdm\n",
    "import matplotlib.pyplot as plt"
   ]
  },
  {
   "cell_type": "code",
   "execution_count": 10,
   "metadata": {},
   "outputs": [
    {
     "name": "stderr",
     "output_type": "stream",
     "text": [
      "100%|██████████| 71/71 [00:00<00:00, 3625.68it/s]\n"
     ]
    }
   ],
   "source": [
    "# directory = 'D:\\Dateset\\MoCA-Mask-Pseudo\\MoCA-Video-Train'\n",
    "directory = 'D:\\Dateset\\MoCA-Mask\\MoCA_Video\\TrainDataset_per_sq'\n",
    "moca_list = os.listdir(directory)\n",
    "for curr_dir in tqdm(moca_list):\n",
    "    os.makedirs(os.path.join(directory, curr_dir, 'Eventflow'), exist_ok=True)\n",
    "    pos_directory = os.path.join(directory, curr_dir, 'positive')\n",
    "    neg_directory = os.path.join(directory, curr_dir, 'negative')\n"
   ]
  },
  {
   "cell_type": "code",
   "execution_count": 11,
   "metadata": {},
   "outputs": [
    {
     "name": "stderr",
     "output_type": "stream",
     "text": [
      "  0%|          | 0/71 [00:00<?, ?it/s]'rm' is not recognized as an internal or external command,\n",
      "operable program or batch file.\n",
      "'rm' is not recognized as an internal or external command,\n",
      "operable program or batch file.\n",
      "  3%|▎         | 2/71 [00:00<00:04, 15.02it/s]'rm' is not recognized as an internal or external command,\n",
      "operable program or batch file.\n",
      "'rm' is not recognized as an internal or external command,\n",
      "operable program or batch file.\n",
      "  6%|▌         | 4/71 [00:00<00:04, 16.21it/s]'rm' is not recognized as an internal or external command,\n",
      "operable program or batch file.\n",
      "'rm' is not recognized as an internal or external command,\n",
      "operable program or batch file.\n",
      "  8%|▊         | 6/71 [00:00<00:03, 17.22it/s]'rm' is not recognized as an internal or external command,\n",
      "operable program or batch file.\n",
      "'rm' is not recognized as an internal or external command,\n",
      "operable program or batch file.\n",
      " 11%|█▏        | 8/71 [00:00<00:03, 17.16it/s]'rm' is not recognized as an internal or external command,\n",
      "operable program or batch file.\n",
      "'rm' is not recognized as an internal or external command,\n",
      "operable program or batch file.\n",
      "'rm' is not recognized as an internal or external command,\n",
      "operable program or batch file.\n",
      " 15%|█▌        | 11/71 [00:00<00:03, 18.39it/s]'rm' is not recognized as an internal or external command,\n",
      "operable program or batch file.\n",
      "'rm' is not recognized as an internal or external command,\n",
      "operable program or batch file.\n",
      "'rm' is not recognized as an internal or external command,\n",
      "operable program or batch file.\n",
      " 20%|█▉        | 14/71 [00:00<00:02, 19.50it/s]'rm' is not recognized as an internal or external command,\n",
      "operable program or batch file.\n",
      "'rm' is not recognized as an internal or external command,\n",
      "operable program or batch file.\n",
      "'rm' is not recognized as an internal or external command,\n",
      "operable program or batch file.\n",
      " 24%|██▍       | 17/71 [00:00<00:02, 19.51it/s]'rm' is not recognized as an internal or external command,\n",
      "operable program or batch file.\n",
      "'rm' is not recognized as an internal or external command,\n",
      "operable program or batch file.\n",
      " 27%|██▋       | 19/71 [00:01<00:02, 18.92it/s]'rm' is not recognized as an internal or external command,\n",
      "operable program or batch file.\n",
      "'rm' is not recognized as an internal or external command,\n",
      "operable program or batch file.\n",
      "'rm' is not recognized as an internal or external command,\n",
      "operable program or batch file.\n",
      " 31%|███       | 22/71 [00:01<00:02, 19.31it/s]'rm' is not recognized as an internal or external command,\n",
      "operable program or batch file.\n",
      "'rm' is not recognized as an internal or external command,\n",
      "operable program or batch file.\n",
      "'rm' is not recognized as an internal or external command,\n",
      "operable program or batch file.\n",
      " 35%|███▌      | 25/71 [00:01<00:02, 19.34it/s]'rm' is not recognized as an internal or external command,\n",
      "operable program or batch file.\n",
      "'rm' is not recognized as an internal or external command,\n",
      "operable program or batch file.\n",
      "'rm' is not recognized as an internal or external command,\n",
      "operable program or batch file.\n",
      " 39%|███▉      | 28/71 [00:01<00:01, 21.60it/s]'rm' is not recognized as an internal or external command,\n",
      "operable program or batch file.\n",
      "'rm' is not recognized as an internal or external command,\n",
      "operable program or batch file.\n",
      "'rm' is not recognized as an internal or external command,\n",
      "operable program or batch file.\n",
      " 44%|████▎     | 31/71 [00:01<00:01, 20.91it/s]'rm' is not recognized as an internal or external command,\n",
      "operable program or batch file.\n",
      "'rm' is not recognized as an internal or external command,\n",
      "operable program or batch file.\n",
      "'rm' is not recognized as an internal or external command,\n",
      "operable program or batch file.\n",
      " 48%|████▊     | 34/71 [00:01<00:01, 19.55it/s]'rm' is not recognized as an internal or external command,\n",
      "operable program or batch file.\n",
      "'rm' is not recognized as an internal or external command,\n",
      "operable program or batch file.\n",
      "'rm' is not recognized as an internal or external command,\n",
      "operable program or batch file.\n",
      " 52%|█████▏    | 37/71 [00:01<00:01, 19.81it/s]'rm' is not recognized as an internal or external command,\n",
      "operable program or batch file.\n",
      "'rm' is not recognized as an internal or external command,\n",
      "operable program or batch file.\n",
      "'rm' is not recognized as an internal or external command,\n",
      "operable program or batch file.\n",
      " 56%|█████▋    | 40/71 [00:02<00:01, 19.70it/s]'rm' is not recognized as an internal or external command,\n",
      "operable program or batch file.\n",
      "'rm' is not recognized as an internal or external command,\n",
      "operable program or batch file.\n",
      " 59%|█████▉    | 42/71 [00:02<00:01, 18.76it/s]'rm' is not recognized as an internal or external command,\n",
      "operable program or batch file.\n",
      "'rm' is not recognized as an internal or external command,\n",
      "operable program or batch file.\n",
      "'rm' is not recognized as an internal or external command,\n",
      "operable program or batch file.\n",
      " 63%|██████▎   | 45/71 [00:02<00:01, 19.81it/s]'rm' is not recognized as an internal or external command,\n",
      "operable program or batch file.\n",
      "'rm' is not recognized as an internal or external command,\n",
      "operable program or batch file.\n",
      " 66%|██████▌   | 47/71 [00:02<00:01, 18.95it/s]'rm' is not recognized as an internal or external command,\n",
      "operable program or batch file.\n",
      "'rm' is not recognized as an internal or external command,\n",
      "operable program or batch file.\n",
      "'rm' is not recognized as an internal or external command,\n",
      "operable program or batch file.\n",
      " 70%|███████   | 50/71 [00:02<00:01, 19.65it/s]'rm' is not recognized as an internal or external command,\n",
      "operable program or batch file.\n",
      "'rm' is not recognized as an internal or external command,\n",
      "operable program or batch file.\n",
      "'rm' is not recognized as an internal or external command,\n",
      "operable program or batch file.\n",
      " 75%|███████▍  | 53/71 [00:02<00:00, 20.73it/s]'rm' is not recognized as an internal or external command,\n",
      "operable program or batch file.\n",
      "'rm' is not recognized as an internal or external command,\n",
      "operable program or batch file.\n",
      "'rm' is not recognized as an internal or external command,\n",
      "operable program or batch file.\n",
      " 79%|███████▉  | 56/71 [00:02<00:00, 18.97it/s]'rm' is not recognized as an internal or external command,\n",
      "operable program or batch file.\n",
      "'rm' is not recognized as an internal or external command,\n",
      "operable program or batch file.\n",
      " 82%|████████▏ | 58/71 [00:03<00:00, 18.52it/s]'rm' is not recognized as an internal or external command,\n",
      "operable program or batch file.\n",
      "'rm' is not recognized as an internal or external command,\n",
      "operable program or batch file.\n",
      "'rm' is not recognized as an internal or external command,\n",
      "operable program or batch file.\n",
      " 86%|████████▌ | 61/71 [00:03<00:00, 19.06it/s]'rm' is not recognized as an internal or external command,\n",
      "operable program or batch file.\n",
      "'rm' is not recognized as an internal or external command,\n",
      "operable program or batch file.\n",
      " 89%|████████▊ | 63/71 [00:03<00:00, 18.17it/s]'rm' is not recognized as an internal or external command,\n",
      "operable program or batch file.\n",
      "'rm' is not recognized as an internal or external command,\n",
      "operable program or batch file.\n",
      " 92%|█████████▏| 65/71 [00:03<00:00, 18.11it/s]'rm' is not recognized as an internal or external command,\n",
      "operable program or batch file.\n",
      "'rm' is not recognized as an internal or external command,\n",
      "operable program or batch file.\n",
      "'rm' is not recognized as an internal or external command,\n",
      "operable program or batch file.\n",
      " 96%|█████████▌| 68/71 [00:03<00:00, 18.94it/s]'rm' is not recognized as an internal or external command,\n",
      "operable program or batch file.\n",
      "'rm' is not recognized as an internal or external command,\n",
      "operable program or batch file.\n",
      "'rm' is not recognized as an internal or external command,\n",
      "operable program or batch file.\n",
      "100%|██████████| 71/71 [00:03<00:00, 19.18it/s]\n"
     ]
    }
   ],
   "source": [
    "for curr_dir in tqdm(moca_list):\n",
    "    os.makedirs(os.path.join(directory, curr_dir, 'Eventflow'), exist_ok=True)\n",
    "\n",
    "    pos_directory = os.path.join(directory, curr_dir, 'Eventflow', 'positive')\n",
    "    pos_images = [f for f in os.listdir(pos_directory) if f.endswith('.jpg')]\n",
    "\n",
    "    rm_dir = pos_directory = os.path.join(directory, curr_dir, 'Eventflow')\n",
    "    rm_dir = rm_dir + '*.jpg'\n",
    "    !rm -f rm_dir\n",
    "\n",
    "    visualization_directory = os.path.join(directory, curr_dir, 'Eventflow', 'red_blue_visualization')\n",
    "    # save a all black image named 00000.jpg in visualization_directory, size is the same with 000001.jpg in that directory\n",
    "    \n",
    "    img = cv2.imread(os.path.join(pos_directory, pos_images[0]))\n",
    "    img = np.zeros_like(img)\n",
    "    cv2.imwrite(os.path.join(visualization_directory, '00000.jpg'), img)\n"
   ]
  },
  {
   "cell_type": "code",
   "execution_count": 13,
   "metadata": {},
   "outputs": [
    {
     "name": "stderr",
     "output_type": "stream",
     "text": [
      "100%|██████████| 71/71 [01:17<00:00,  1.10s/it]\n"
     ]
    }
   ],
   "source": [
    "for curr_dir in tqdm(moca_list):\n",
    "    os.makedirs(os.path.join(directory, curr_dir, 'Eventflow'), exist_ok=True)\n",
    "    pos_directory = os.path.join(directory, curr_dir, 'Eventflow', 'positive')\n",
    "    neg_directory = os.path.join(directory, curr_dir, 'Eventflow', 'negative')\n",
    "    \n",
    "    pos_images = [f for f in os.listdir(pos_directory) if f.endswith('.jpg')]\n",
    "    neg_images = [f for f in os.listdir(neg_directory) if f.endswith('.jpg')]\n",
    "    \n",
    "    visualization_directory = os.path.join(directory, curr_dir, 'Eventflow', 'red_blue_visualization')\n",
    "    os.makedirs(visualization_directory, exist_ok=True)\n",
    "\n",
    "    for pos_image_name, neg_image_name in zip(pos_images, neg_images):\n",
    "        pos_image_path = os.path.join(pos_directory, pos_image_name)\n",
    "        neg_image_path = os.path.join(neg_directory, neg_image_name)\n",
    "        \n",
    "        # Read images\n",
    "        pos_image = cv2.imread(pos_image_path, cv2.IMREAD_GRAYSCALE)\n",
    "        neg_image = cv2.imread(neg_image_path, cv2.IMREAD_GRAYSCALE)\n",
    "        \n",
    "        # Ensure both images are of the same size\n",
    "        if pos_image.shape != neg_image.shape:\n",
    "            raise ValueError(\"The positive and negative images must be of the same size\")\n",
    "        \n",
    "        # Create an empty RGB image\n",
    "        combined_image = np.zeros((pos_image.shape[0], pos_image.shape[1], 3), dtype=np.uint8)\n",
    "        \n",
    "        # Assign the positive image to the red channel\n",
    "        combined_image[:, :, 2] = pos_image\n",
    "        \n",
    "        # Assign the negative image to the blue channel\n",
    "        combined_image[:, :, 0] = neg_image\n",
    "        \n",
    "        # Save the combined image\n",
    "        combined_image_path = os.path.join(visualization_directory, f'{pos_image_name}')\n",
    "        cv2.imwrite(combined_image_path, combined_image)"
   ]
  },
  {
   "cell_type": "code",
   "execution_count": 4,
   "metadata": {},
   "outputs": [
    {
     "name": "stderr",
     "output_type": "stream",
     "text": [
      "100%|██████████| 16/16 [00:00<00:00, 2903.26it/s]\n"
     ]
    }
   ],
   "source": [
    "# directory = 'D:\\Dateset\\MoCA-Mask-Pseudo\\MoCA-Video-Train'\n",
    "directory = 'D:\\Dateset\\MoCA-Mask\\MoCA_Video\\TestDataset_per_sq'\n",
    "moca_list = os.listdir(directory)\n",
    "for curr_dir in tqdm(moca_list):\n",
    "    os.makedirs(os.path.join(directory, curr_dir, 'Eventflow'), exist_ok=True)\n",
    "    pos_directory = os.path.join(directory, curr_dir, 'positive')\n",
    "    neg_directory = os.path.join(directory, curr_dir, 'negative')\n"
   ]
  },
  {
   "cell_type": "code",
   "execution_count": 5,
   "metadata": {},
   "outputs": [
    {
     "name": "stderr",
     "output_type": "stream",
     "text": [
      "100%|██████████| 16/16 [00:00<00:00, 41.37it/s]\n"
     ]
    }
   ],
   "source": [
    "for curr_dir in tqdm(moca_list):\n",
    "    os.makedirs(os.path.join(directory, curr_dir, 'Eventflow'), exist_ok=True)\n",
    "\n",
    "    pos_directory = os.path.join(directory, curr_dir, 'Eventflow', 'positive')\n",
    "    pos_images = [f for f in os.listdir(pos_directory) if f.endswith('.jpg')]\n",
    "\n",
    "    visualization_directory = os.path.join(directory, curr_dir, 'Eventflow', 'red_blue_visualization')\n",
    "    # save a all black image named 00000.jpg in visualization_directory, size is the same with 000001.jpg in that directory\n",
    "    \n",
    "    img = cv2.imread(os.path.join(pos_directory, pos_images[0]))\n",
    "    img = np.zeros_like(img)\n",
    "    cv2.imwrite(os.path.join(visualization_directory, '00000.jpg'), img)\n"
   ]
  },
  {
   "cell_type": "code",
   "execution_count": 15,
   "metadata": {},
   "outputs": [
    {
     "name": "stderr",
     "output_type": "stream",
     "text": [
      "100%|██████████| 16/16 [00:12<00:00,  1.27it/s]\n"
     ]
    }
   ],
   "source": [
    "for curr_dir in tqdm(moca_list):\n",
    "    os.makedirs(os.path.join(directory, curr_dir, 'Eventflow'), exist_ok=True)\n",
    "    pos_directory = os.path.join(directory, curr_dir, 'Eventflow', 'positive')\n",
    "    neg_directory = os.path.join(directory, curr_dir, 'Eventflow', 'negative')\n",
    "    \n",
    "    pos_images = [f for f in os.listdir(pos_directory) if f.endswith('.jpg')]\n",
    "    neg_images = [f for f in os.listdir(neg_directory) if f.endswith('.jpg')]\n",
    "    \n",
    "    visualization_directory = os.path.join(directory, curr_dir, 'Eventflow', 'red_blue_visualization')\n",
    "    os.makedirs(visualization_directory, exist_ok=True)\n",
    "\n",
    "    for pos_image_name, neg_image_name in zip(pos_images, neg_images):\n",
    "        pos_image_path = os.path.join(pos_directory, pos_image_name)\n",
    "        neg_image_path = os.path.join(neg_directory, neg_image_name)\n",
    "        \n",
    "        # Read images\n",
    "        pos_image = cv2.imread(pos_image_path, cv2.IMREAD_GRAYSCALE)\n",
    "        neg_image = cv2.imread(neg_image_path, cv2.IMREAD_GRAYSCALE)\n",
    "        \n",
    "        # Ensure both images are of the same size\n",
    "        if pos_image.shape != neg_image.shape:\n",
    "            raise ValueError(\"The positive and negative images must be of the same size\")\n",
    "        \n",
    "        # Create an empty RGB image\n",
    "        combined_image = np.zeros((pos_image.shape[0], pos_image.shape[1], 3), dtype=np.uint8)\n",
    "        \n",
    "        # Assign the positive image to the red channel\n",
    "        combined_image[:, :, 2] = pos_image\n",
    "        \n",
    "        # Assign the negative image to the blue channel\n",
    "        combined_image[:, :, 0] = neg_image\n",
    "        \n",
    "        # Save the combined image\n",
    "        combined_image_path = os.path.join(visualization_directory, f'{pos_image_name}')\n",
    "        cv2.imwrite(combined_image_path, combined_image)"
   ]
  },
  {
   "cell_type": "code",
   "execution_count": 6,
   "metadata": {},
   "outputs": [
    {
     "name": "stderr",
     "output_type": "stream",
     "text": [
      "100%|██████████| 71/71 [00:00<00:00, 1645.47it/s]\n"
     ]
    }
   ],
   "source": [
    "# directory = 'D:\\Dateset\\MoCA-Mask-Pseudo\\MoCA-Video-Train'\n",
    "directory = 'D:\\Dateset\\MoCA-Mask-Pseudo\\MoCA-Video-Train'\n",
    "moca_list = os.listdir(directory)\n",
    "for curr_dir in tqdm(moca_list):\n",
    "    os.makedirs(os.path.join(directory, curr_dir, 'Eventflow'), exist_ok=True)\n",
    "    pos_directory = os.path.join(directory, curr_dir, 'positive')\n",
    "    neg_directory = os.path.join(directory, curr_dir, 'negative')\n"
   ]
  },
  {
   "cell_type": "code",
   "execution_count": 7,
   "metadata": {},
   "outputs": [
    {
     "name": "stderr",
     "output_type": "stream",
     "text": [
      "100%|██████████| 71/71 [00:01<00:00, 36.93it/s]\n"
     ]
    }
   ],
   "source": [
    "for curr_dir in tqdm(moca_list):\n",
    "    os.makedirs(os.path.join(directory, curr_dir, 'Eventflow'), exist_ok=True)\n",
    "\n",
    "    pos_directory = os.path.join(directory, curr_dir, 'Eventflow', 'positive')\n",
    "    pos_images = [f for f in os.listdir(pos_directory) if f.endswith('.jpg')]\n",
    "\n",
    "    visualization_directory = os.path.join(directory, curr_dir, 'Eventflow', 'red_blue_visualization')\n",
    "    # save a all black image named 00000.jpg in visualization_directory, size is the same with 000001.jpg in that directory\n",
    "    \n",
    "    img = cv2.imread(os.path.join(pos_directory, pos_images[0]))\n",
    "    img = np.zeros_like(img)\n",
    "    cv2.imwrite(os.path.join(visualization_directory, '00000.jpg'), img)\n"
   ]
  },
  {
   "cell_type": "code",
   "execution_count": 17,
   "metadata": {},
   "outputs": [
    {
     "name": "stderr",
     "output_type": "stream",
     "text": [
      "100%|██████████| 71/71 [05:37<00:00,  4.75s/it]\n"
     ]
    }
   ],
   "source": [
    "for curr_dir in tqdm(moca_list):\n",
    "    os.makedirs(os.path.join(directory, curr_dir, 'Eventflow'), exist_ok=True)\n",
    "    pos_directory = os.path.join(directory, curr_dir, 'Eventflow', 'positive')\n",
    "    neg_directory = os.path.join(directory, curr_dir, 'Eventflow', 'negative')\n",
    "    \n",
    "    pos_images = [f for f in os.listdir(pos_directory) if f.endswith('.jpg')]\n",
    "    neg_images = [f for f in os.listdir(neg_directory) if f.endswith('.jpg')]\n",
    "    \n",
    "    visualization_directory = os.path.join(directory, curr_dir, 'Eventflow', 'red_blue_visualization')\n",
    "    os.makedirs(visualization_directory, exist_ok=True)\n",
    "\n",
    "    for pos_image_name, neg_image_name in zip(pos_images, neg_images):\n",
    "        pos_image_path = os.path.join(pos_directory, pos_image_name)\n",
    "        neg_image_path = os.path.join(neg_directory, neg_image_name)\n",
    "        \n",
    "        # Read images\n",
    "        pos_image = cv2.imread(pos_image_path, cv2.IMREAD_GRAYSCALE)\n",
    "        neg_image = cv2.imread(neg_image_path, cv2.IMREAD_GRAYSCALE)\n",
    "        \n",
    "        # Ensure both images are of the same size\n",
    "        if pos_image.shape != neg_image.shape:\n",
    "            raise ValueError(\"The positive and negative images must be of the same size\")\n",
    "        \n",
    "        # Create an empty RGB image\n",
    "        combined_image = np.zeros((pos_image.shape[0], pos_image.shape[1], 3), dtype=np.uint8)\n",
    "        \n",
    "        # Assign the positive image to the red channel\n",
    "        combined_image[:, :, 2] = pos_image\n",
    "        \n",
    "        # Assign the negative image to the blue channel\n",
    "        combined_image[:, :, 0] = neg_image\n",
    "        \n",
    "        # Save the combined image\n",
    "        combined_image_path = os.path.join(visualization_directory, f'{pos_image_name}')\n",
    "        cv2.imwrite(combined_image_path, combined_image)"
   ]
  },
  {
   "cell_type": "code",
   "execution_count": 8,
   "metadata": {},
   "outputs": [
    {
     "name": "stderr",
     "output_type": "stream",
     "text": [
      "100%|██████████| 16/16 [00:00<00:00, 2907.29it/s]\n"
     ]
    }
   ],
   "source": [
    "# directory = 'D:\\Dateset\\MoCA-Mask-Pseudo\\MoCA-Video-Train'\n",
    "directory = 'D:\\Dateset\\MoCA-Mask-Pseudo\\MoCA-Video-Test'\n",
    "moca_list = os.listdir(directory)\n",
    "for curr_dir in tqdm(moca_list):\n",
    "    os.makedirs(os.path.join(directory, curr_dir, 'Eventflow'), exist_ok=True)\n",
    "    pos_directory = os.path.join(directory, curr_dir, 'positive')\n",
    "    neg_directory = os.path.join(directory, curr_dir, 'negative')\n"
   ]
  },
  {
   "cell_type": "code",
   "execution_count": 9,
   "metadata": {},
   "outputs": [
    {
     "name": "stderr",
     "output_type": "stream",
     "text": [
      "100%|██████████| 16/16 [00:00<00:00, 41.65it/s]\n"
     ]
    }
   ],
   "source": [
    "for curr_dir in tqdm(moca_list):\n",
    "    os.makedirs(os.path.join(directory, curr_dir, 'Eventflow'), exist_ok=True)\n",
    "\n",
    "    pos_directory = os.path.join(directory, curr_dir, 'Eventflow', 'positive')\n",
    "    pos_images = [f for f in os.listdir(pos_directory) if f.endswith('.jpg')]\n",
    "\n",
    "    visualization_directory = os.path.join(directory, curr_dir, 'Eventflow', 'red_blue_visualization')\n",
    "    # save a all black image named 00000.jpg in visualization_directory, size is the same with 000001.jpg in that directory\n",
    "    \n",
    "    img = cv2.imread(os.path.join(pos_directory, pos_images[0]))\n",
    "    img = np.zeros_like(img)\n",
    "    cv2.imwrite(os.path.join(visualization_directory, '00000.jpg'), img)\n"
   ]
  },
  {
   "cell_type": "code",
   "execution_count": 19,
   "metadata": {},
   "outputs": [
    {
     "name": "stderr",
     "output_type": "stream",
     "text": [
      "100%|██████████| 16/16 [00:54<00:00,  3.43s/it]\n"
     ]
    }
   ],
   "source": [
    "for curr_dir in tqdm(moca_list):\n",
    "    os.makedirs(os.path.join(directory, curr_dir, 'Eventflow'), exist_ok=True)\n",
    "    pos_directory = os.path.join(directory, curr_dir, 'Eventflow', 'positive')\n",
    "    neg_directory = os.path.join(directory, curr_dir, 'Eventflow', 'negative')\n",
    "    \n",
    "    pos_images = [f for f in os.listdir(pos_directory) if f.endswith('.jpg')]\n",
    "    neg_images = [f for f in os.listdir(neg_directory) if f.endswith('.jpg')]\n",
    "    \n",
    "    visualization_directory = os.path.join(directory, curr_dir, 'Eventflow', 'red_blue_visualization')\n",
    "    os.makedirs(visualization_directory, exist_ok=True)\n",
    "\n",
    "    for pos_image_name, neg_image_name in zip(pos_images, neg_images):\n",
    "        pos_image_path = os.path.join(pos_directory, pos_image_name)\n",
    "        neg_image_path = os.path.join(neg_directory, neg_image_name)\n",
    "        \n",
    "        # Read images\n",
    "        pos_image = cv2.imread(pos_image_path, cv2.IMREAD_GRAYSCALE)\n",
    "        neg_image = cv2.imread(neg_image_path, cv2.IMREAD_GRAYSCALE)\n",
    "        \n",
    "        # Ensure both images are of the same size\n",
    "        if pos_image.shape != neg_image.shape:\n",
    "            raise ValueError(\"The positive and negative images must be of the same size\")\n",
    "        \n",
    "        # Create an empty RGB image\n",
    "        combined_image = np.zeros((pos_image.shape[0], pos_image.shape[1], 3), dtype=np.uint8)\n",
    "        \n",
    "        # Assign the positive image to the red channel\n",
    "        combined_image[:, :, 2] = pos_image\n",
    "        \n",
    "        # Assign the negative image to the blue channel\n",
    "        combined_image[:, :, 0] = neg_image\n",
    "        \n",
    "        # Save the combined image\n",
    "        combined_image_path = os.path.join(visualization_directory, f'{pos_image_name}')\n",
    "        cv2.imwrite(combined_image_path, combined_image)"
   ]
  }
 ],
 "metadata": {
  "kernelspec": {
   "display_name": "dbs",
   "language": "python",
   "name": "python3"
  },
  "language_info": {
   "codemirror_mode": {
    "name": "ipython",
    "version": 3
   },
   "file_extension": ".py",
   "mimetype": "text/x-python",
   "name": "python",
   "nbconvert_exporter": "python",
   "pygments_lexer": "ipython3",
   "version": "3.8.18"
  }
 },
 "nbformat": 4,
 "nbformat_minor": 2
}
